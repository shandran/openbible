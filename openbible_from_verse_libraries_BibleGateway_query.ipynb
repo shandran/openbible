{
 "cells": [
  {
   "cell_type": "code",
   "execution_count": 1,
   "metadata": {
    "executionInfo": {
     "elapsed": 2282,
     "status": "ok",
     "timestamp": 1712876516943,
     "user": {
      "displayName": "Shawn Handran",
      "userId": "12018415590282902479"
     },
     "user_tz": 420
    },
    "id": "oUHpTilZN9wH"
   },
   "outputs": [],
   "source": [
    "import pandas as pd\n",
    "import numpy as np"
   ]
  },
  {
   "cell_type": "code",
   "execution_count": 2,
   "metadata": {
    "colab": {
     "base_uri": "https://localhost:8080/"
    },
    "executionInfo": {
     "elapsed": 19122,
     "status": "ok",
     "timestamp": 1712876565172,
     "user": {
      "displayName": "Shawn Handran",
      "userId": "12018415590282902479"
     },
     "user_tz": 420
    },
    "id": "EFX1lYmGPA6-",
    "outputId": "55f255a5-204e-4186-e0e1-4192f1a9919b"
   },
   "outputs": [],
   "source": [
    "# if you wish to use Google Colab and your Google Drive\n",
    "\n",
    "# from google.colab import drive\n",
    "# drive.mount('/content/gdrive')"
   ]
  },
  {
   "cell_type": "code",
   "execution_count": 3,
   "metadata": {
    "executionInfo": {
     "elapsed": 1841,
     "status": "ok",
     "timestamp": 1712876578778,
     "user": {
      "displayName": "Shawn Handran",
      "userId": "12018415590282902479"
     },
     "user_tz": 420
    },
    "id": "3L9Opci6OxPf"
   },
   "outputs": [],
   "source": [
    "# df = pd.read_csv('gdrive/MyDrive/Colab Notebooks/openbible/cross_references_expanded.csv')"
   ]
  },
  {
   "cell_type": "code",
   "execution_count": 4,
   "metadata": {},
   "outputs": [],
   "source": [
    "df = pd.read_csv('cross_references_expanded.csv')"
   ]
  },
  {
   "cell_type": "code",
   "execution_count": 5,
   "metadata": {
    "colab": {
     "base_uri": "https://localhost:8080/"
    },
    "executionInfo": {
     "elapsed": 2,
     "status": "ok",
     "timestamp": 1712876578778,
     "user": {
      "displayName": "Shawn Handran",
      "userId": "12018415590282902479"
     },
     "user_tz": 420
    },
    "id": "JyBhH3V-e3Xj",
    "outputId": "5a972bc0-8151-456d-f596-f7296c9f66e2"
   },
   "outputs": [
    {
     "data": {
      "text/plain": [
       "(344799, 19)"
      ]
     },
     "execution_count": 5,
     "metadata": {},
     "output_type": "execute_result"
    }
   ],
   "source": [
    "df.shape"
   ]
  },
  {
   "cell_type": "code",
   "execution_count": 6,
   "metadata": {
    "executionInfo": {
     "elapsed": 778,
     "status": "ok",
     "timestamp": 1712876579555,
     "user": {
      "displayName": "Shawn Handran",
      "userId": "12018415590282902479"
     },
     "user_tz": 420
    },
    "id": "-6s0YmCpv5vK"
   },
   "outputs": [],
   "source": [
    "df = df.astype({'To Verse end':'str', 'To Verse end Book':'str', 'To Verse end Chapter':'str', 'To Verse end number':'str', 'To Verse end Book number':'str'})"
   ]
  },
  {
   "cell_type": "code",
   "execution_count": 7,
   "metadata": {
    "executionInfo": {
     "elapsed": 439,
     "status": "ok",
     "timestamp": 1712876579992,
     "user": {
      "displayName": "Shawn Handran",
      "userId": "12018415590282902479"
     },
     "user_tz": 420
    },
    "id": "Xc2ZwaOP2ULy"
   },
   "outputs": [],
   "source": [
    "df['To Verse end Chapter'] = df['To Verse end Chapter'].apply(lambda x: x.replace('.0',''))\n",
    "df['To Verse end number'] = df['To Verse end number'].apply(lambda x: x.replace('.0',''))\n",
    "df['To Verse end Book number'] = df['To Verse end Book number'].apply(lambda x: x.replace('.0',''))"
   ]
  },
  {
   "cell_type": "code",
   "execution_count": 8,
   "metadata": {
    "executionInfo": {
     "elapsed": 3,
     "status": "ok",
     "timestamp": 1712876579992,
     "user": {
      "displayName": "Shawn Handran",
      "userId": "12018415590282902479"
     },
     "user_tz": 420
    },
    "id": "uYUKOyaowMSg"
   },
   "outputs": [],
   "source": [
    "df = df.sort_values('From Book number')"
   ]
  },
  {
   "cell_type": "code",
   "execution_count": 9,
   "metadata": {
    "executionInfo": {
     "elapsed": 3,
     "status": "ok",
     "timestamp": 1712876579992,
     "user": {
      "displayName": "Shawn Handran",
      "userId": "12018415590282902479"
     },
     "user_tz": 420
    },
    "id": "7BPvYp4DnGAU"
   },
   "outputs": [],
   "source": [
    "book_list = df['From Book'].unique().tolist()"
   ]
  },
  {
   "cell_type": "code",
   "execution_count": 10,
   "metadata": {
    "colab": {
     "base_uri": "https://localhost:8080/"
    },
    "executionInfo": {
     "elapsed": 2,
     "status": "ok",
     "timestamp": 1712876579992,
     "user": {
      "displayName": "Shawn Handran",
      "userId": "12018415590282902479"
     },
     "user_tz": 420
    },
    "id": "TSBku-_roBDU",
    "outputId": "83c113ab-4328-4571-9566-7c74e8f5a879"
   },
   "outputs": [
    {
     "name": "stdout",
     "output_type": "stream",
     "text": [
      "66\n",
      "Gen\n",
      "<class 'str'>\n"
     ]
    }
   ],
   "source": [
    "print(len(book_list))\n",
    "print(book_list[0])\n",
    "print(type(book_list[0]))"
   ]
  },
  {
   "cell_type": "code",
   "execution_count": 11,
   "metadata": {
    "executionInfo": {
     "elapsed": 3357,
     "status": "ok",
     "timestamp": 1712876583347,
     "user": {
      "displayName": "Shawn Handran",
      "userId": "12018415590282902479"
     },
     "user_tz": 420
    },
    "id": "VVzor_YSmr6b"
   },
   "outputs": [],
   "source": [
    "book_dict = {}\n",
    "for i in range(len(book_list)):\n",
    "  book_dict[book_list[i]] = df[df['From Book'] == book_list[i]]"
   ]
  },
  {
   "cell_type": "code",
   "execution_count": 12,
   "metadata": {
    "colab": {
     "base_uri": "https://localhost:8080/"
    },
    "executionInfo": {
     "elapsed": 10,
     "status": "ok",
     "timestamp": 1712876583347,
     "user": {
      "displayName": "Shawn Handran",
      "userId": "12018415590282902479"
     },
     "user_tz": 420
    },
    "id": "Q_cAPqt7thgC",
    "outputId": "a6243a33-0ab4-424d-cdd9-922d846e2c6a"
   },
   "outputs": [
    {
     "data": {
      "text/plain": [
       "66"
      ]
     },
     "execution_count": 12,
     "metadata": {},
     "output_type": "execute_result"
    }
   ],
   "source": [
    "len(book_dict)"
   ]
  },
  {
   "cell_type": "code",
   "execution_count": 13,
   "metadata": {
    "colab": {
     "base_uri": "https://localhost:8080/"
    },
    "executionInfo": {
     "elapsed": 9,
     "status": "ok",
     "timestamp": 1712876583347,
     "user": {
      "displayName": "Shawn Handran",
      "userId": "12018415590282902479"
     },
     "user_tz": 420
    },
    "id": "FMKJj1IcvCdH",
    "outputId": "7fa8db5c-0d41-44ed-de16-b4f6895bf603"
   },
   "outputs": [
    {
     "data": {
      "text/plain": [
       "array([ 1,  2,  3,  4,  5,  6,  7,  8,  9, 10, 11, 12, 13, 14, 15, 16, 17,\n",
       "       18, 19, 20, 21, 22, 23, 24, 25, 26, 27, 28, 29, 30, 31, 32, 33, 34,\n",
       "       35, 36, 37, 38, 39, 40, 41, 42, 43, 44, 45, 46, 47, 48, 49, 50],\n",
       "      dtype=int64)"
      ]
     },
     "execution_count": 13,
     "metadata": {},
     "output_type": "execute_result"
    }
   ],
   "source": [
    "np.sort(book_dict.get(book_list[0])['From Chapter'].unique(), axis=None)"
   ]
  },
  {
   "cell_type": "code",
   "execution_count": 14,
   "metadata": {
    "colab": {
     "base_uri": "https://localhost:8080/",
     "height": 530
    },
    "executionInfo": {
     "elapsed": 228,
     "status": "ok",
     "timestamp": 1712876583567,
     "user": {
      "displayName": "Shawn Handran",
      "userId": "12018415590282902479"
     },
     "user_tz": 420
    },
    "id": "WMVtQWtMtlZv",
    "outputId": "77e6e4cf-234f-4ce9-faa9-543aec92d689"
   },
   "outputs": [
    {
     "data": {
      "text/html": [
       "<div>\n",
       "<style scoped>\n",
       "    .dataframe tbody tr th:only-of-type {\n",
       "        vertical-align: middle;\n",
       "    }\n",
       "\n",
       "    .dataframe tbody tr th {\n",
       "        vertical-align: top;\n",
       "    }\n",
       "\n",
       "    .dataframe thead th {\n",
       "        text-align: right;\n",
       "    }\n",
       "</style>\n",
       "<table border=\"1\" class=\"dataframe\">\n",
       "  <thead>\n",
       "    <tr style=\"text-align: right;\">\n",
       "      <th></th>\n",
       "      <th>From Verse</th>\n",
       "      <th>To Verse</th>\n",
       "      <th>Votes</th>\n",
       "      <th>From Book</th>\n",
       "      <th>From Chapter</th>\n",
       "      <th>From Verse number</th>\n",
       "      <th>To Verse start</th>\n",
       "      <th>To Verse end</th>\n",
       "      <th>To Verse start Book</th>\n",
       "      <th>To Verse start Chapter</th>\n",
       "      <th>To Verse start number</th>\n",
       "      <th>To Verse end Book</th>\n",
       "      <th>To Verse end Chapter</th>\n",
       "      <th>To Verse end number</th>\n",
       "      <th>From Book number</th>\n",
       "      <th>To Verse start Book number</th>\n",
       "      <th>To Verse end Book number</th>\n",
       "      <th>From Book Testament</th>\n",
       "      <th>To Book Testament</th>\n",
       "    </tr>\n",
       "  </thead>\n",
       "  <tbody>\n",
       "    <tr>\n",
       "      <th>0</th>\n",
       "      <td>Gen.1.1</td>\n",
       "      <td>Rev.21.6</td>\n",
       "      <td>38</td>\n",
       "      <td>Gen</td>\n",
       "      <td>1</td>\n",
       "      <td>1</td>\n",
       "      <td>Rev.21.6</td>\n",
       "      <td>nan</td>\n",
       "      <td>Rev</td>\n",
       "      <td>21</td>\n",
       "      <td>6</td>\n",
       "      <td>nan</td>\n",
       "      <td>nan</td>\n",
       "      <td>nan</td>\n",
       "      <td>1</td>\n",
       "      <td>66</td>\n",
       "      <td>nan</td>\n",
       "      <td>Old</td>\n",
       "      <td>New</td>\n",
       "    </tr>\n",
       "    <tr>\n",
       "      <th>172385</th>\n",
       "      <td>Gen.1.1</td>\n",
       "      <td>Zech.12.1</td>\n",
       "      <td>45</td>\n",
       "      <td>Gen</td>\n",
       "      <td>1</td>\n",
       "      <td>1</td>\n",
       "      <td>Zech.12.1</td>\n",
       "      <td>nan</td>\n",
       "      <td>Zech</td>\n",
       "      <td>12</td>\n",
       "      <td>1</td>\n",
       "      <td>nan</td>\n",
       "      <td>nan</td>\n",
       "      <td>nan</td>\n",
       "      <td>1</td>\n",
       "      <td>38</td>\n",
       "      <td>nan</td>\n",
       "      <td>Old</td>\n",
       "      <td>Old</td>\n",
       "    </tr>\n",
       "    <tr>\n",
       "      <th>172386</th>\n",
       "      <td>Gen.1.6</td>\n",
       "      <td>Zech.12.1</td>\n",
       "      <td>5</td>\n",
       "      <td>Gen</td>\n",
       "      <td>1</td>\n",
       "      <td>6</td>\n",
       "      <td>Zech.12.1</td>\n",
       "      <td>nan</td>\n",
       "      <td>Zech</td>\n",
       "      <td>12</td>\n",
       "      <td>1</td>\n",
       "      <td>nan</td>\n",
       "      <td>nan</td>\n",
       "      <td>nan</td>\n",
       "      <td>1</td>\n",
       "      <td>38</td>\n",
       "      <td>nan</td>\n",
       "      <td>Old</td>\n",
       "      <td>Old</td>\n",
       "    </tr>\n",
       "    <tr>\n",
       "      <th>175504</th>\n",
       "      <td>Gen.1.14</td>\n",
       "      <td>Matt.16.2-Matt.16.3</td>\n",
       "      <td>4</td>\n",
       "      <td>Gen</td>\n",
       "      <td>1</td>\n",
       "      <td>14</td>\n",
       "      <td>Matt.16.2</td>\n",
       "      <td>Matt.16.3</td>\n",
       "      <td>Matt</td>\n",
       "      <td>16</td>\n",
       "      <td>2</td>\n",
       "      <td>Matt</td>\n",
       "      <td>16</td>\n",
       "      <td>3</td>\n",
       "      <td>1</td>\n",
       "      <td>40</td>\n",
       "      <td>40</td>\n",
       "      <td>Old</td>\n",
       "      <td>New</td>\n",
       "    </tr>\n",
       "    <tr>\n",
       "      <th>175503</th>\n",
       "      <td>Gen.1.14</td>\n",
       "      <td>Matt.2.2</td>\n",
       "      <td>4</td>\n",
       "      <td>Gen</td>\n",
       "      <td>1</td>\n",
       "      <td>14</td>\n",
       "      <td>Matt.2.2</td>\n",
       "      <td>nan</td>\n",
       "      <td>Matt</td>\n",
       "      <td>2</td>\n",
       "      <td>2</td>\n",
       "      <td>nan</td>\n",
       "      <td>nan</td>\n",
       "      <td>nan</td>\n",
       "      <td>1</td>\n",
       "      <td>40</td>\n",
       "      <td>nan</td>\n",
       "      <td>Old</td>\n",
       "      <td>New</td>\n",
       "    </tr>\n",
       "    <tr>\n",
       "      <th>...</th>\n",
       "      <td>...</td>\n",
       "      <td>...</td>\n",
       "      <td>...</td>\n",
       "      <td>...</td>\n",
       "      <td>...</td>\n",
       "      <td>...</td>\n",
       "      <td>...</td>\n",
       "      <td>...</td>\n",
       "      <td>...</td>\n",
       "      <td>...</td>\n",
       "      <td>...</td>\n",
       "      <td>...</td>\n",
       "      <td>...</td>\n",
       "      <td>...</td>\n",
       "      <td>...</td>\n",
       "      <td>...</td>\n",
       "      <td>...</td>\n",
       "      <td>...</td>\n",
       "      <td>...</td>\n",
       "    </tr>\n",
       "    <tr>\n",
       "      <th>7</th>\n",
       "      <td>Gen.1.14</td>\n",
       "      <td>Rev.6.12</td>\n",
       "      <td>4</td>\n",
       "      <td>Gen</td>\n",
       "      <td>1</td>\n",
       "      <td>14</td>\n",
       "      <td>Rev.6.12</td>\n",
       "      <td>nan</td>\n",
       "      <td>Rev</td>\n",
       "      <td>6</td>\n",
       "      <td>12</td>\n",
       "      <td>nan</td>\n",
       "      <td>nan</td>\n",
       "      <td>nan</td>\n",
       "      <td>1</td>\n",
       "      <td>66</td>\n",
       "      <td>nan</td>\n",
       "      <td>Old</td>\n",
       "      <td>New</td>\n",
       "    </tr>\n",
       "    <tr>\n",
       "      <th>4</th>\n",
       "      <td>Gen.1.1</td>\n",
       "      <td>Rev.3.14</td>\n",
       "      <td>27</td>\n",
       "      <td>Gen</td>\n",
       "      <td>1</td>\n",
       "      <td>1</td>\n",
       "      <td>Rev.3.14</td>\n",
       "      <td>nan</td>\n",
       "      <td>Rev</td>\n",
       "      <td>3</td>\n",
       "      <td>14</td>\n",
       "      <td>nan</td>\n",
       "      <td>nan</td>\n",
       "      <td>nan</td>\n",
       "      <td>1</td>\n",
       "      <td>66</td>\n",
       "      <td>nan</td>\n",
       "      <td>Old</td>\n",
       "      <td>New</td>\n",
       "    </tr>\n",
       "    <tr>\n",
       "      <th>3</th>\n",
       "      <td>Gen.1.1</td>\n",
       "      <td>Rev.10.6</td>\n",
       "      <td>45</td>\n",
       "      <td>Gen</td>\n",
       "      <td>1</td>\n",
       "      <td>1</td>\n",
       "      <td>Rev.10.6</td>\n",
       "      <td>nan</td>\n",
       "      <td>Rev</td>\n",
       "      <td>10</td>\n",
       "      <td>6</td>\n",
       "      <td>nan</td>\n",
       "      <td>nan</td>\n",
       "      <td>nan</td>\n",
       "      <td>1</td>\n",
       "      <td>66</td>\n",
       "      <td>nan</td>\n",
       "      <td>Old</td>\n",
       "      <td>New</td>\n",
       "    </tr>\n",
       "    <tr>\n",
       "      <th>1</th>\n",
       "      <td>Gen.1.1</td>\n",
       "      <td>Rev.14.7</td>\n",
       "      <td>60</td>\n",
       "      <td>Gen</td>\n",
       "      <td>1</td>\n",
       "      <td>1</td>\n",
       "      <td>Rev.14.7</td>\n",
       "      <td>nan</td>\n",
       "      <td>Rev</td>\n",
       "      <td>14</td>\n",
       "      <td>7</td>\n",
       "      <td>nan</td>\n",
       "      <td>nan</td>\n",
       "      <td>nan</td>\n",
       "      <td>1</td>\n",
       "      <td>66</td>\n",
       "      <td>nan</td>\n",
       "      <td>Old</td>\n",
       "      <td>New</td>\n",
       "    </tr>\n",
       "    <tr>\n",
       "      <th>2</th>\n",
       "      <td>Gen.1.1</td>\n",
       "      <td>Rev.22.13</td>\n",
       "      <td>39</td>\n",
       "      <td>Gen</td>\n",
       "      <td>1</td>\n",
       "      <td>1</td>\n",
       "      <td>Rev.22.13</td>\n",
       "      <td>nan</td>\n",
       "      <td>Rev</td>\n",
       "      <td>22</td>\n",
       "      <td>13</td>\n",
       "      <td>nan</td>\n",
       "      <td>nan</td>\n",
       "      <td>nan</td>\n",
       "      <td>1</td>\n",
       "      <td>66</td>\n",
       "      <td>nan</td>\n",
       "      <td>Old</td>\n",
       "      <td>New</td>\n",
       "    </tr>\n",
       "  </tbody>\n",
       "</table>\n",
       "<p>426 rows × 19 columns</p>\n",
       "</div>"
      ],
      "text/plain": [
       "       From Verse             To Verse  Votes From Book  From Chapter  \\\n",
       "0         Gen.1.1             Rev.21.6     38       Gen             1   \n",
       "172385    Gen.1.1            Zech.12.1     45       Gen             1   \n",
       "172386    Gen.1.6            Zech.12.1      5       Gen             1   \n",
       "175504   Gen.1.14  Matt.16.2-Matt.16.3      4       Gen             1   \n",
       "175503   Gen.1.14             Matt.2.2      4       Gen             1   \n",
       "...           ...                  ...    ...       ...           ...   \n",
       "7        Gen.1.14             Rev.6.12      4       Gen             1   \n",
       "4         Gen.1.1             Rev.3.14     27       Gen             1   \n",
       "3         Gen.1.1             Rev.10.6     45       Gen             1   \n",
       "1         Gen.1.1             Rev.14.7     60       Gen             1   \n",
       "2         Gen.1.1            Rev.22.13     39       Gen             1   \n",
       "\n",
       "        From Verse number To Verse start To Verse end To Verse start Book  \\\n",
       "0                       1       Rev.21.6          nan                 Rev   \n",
       "172385                  1      Zech.12.1          nan                Zech   \n",
       "172386                  6      Zech.12.1          nan                Zech   \n",
       "175504                 14      Matt.16.2    Matt.16.3                Matt   \n",
       "175503                 14       Matt.2.2          nan                Matt   \n",
       "...                   ...            ...          ...                 ...   \n",
       "7                      14       Rev.6.12          nan                 Rev   \n",
       "4                       1       Rev.3.14          nan                 Rev   \n",
       "3                       1       Rev.10.6          nan                 Rev   \n",
       "1                       1       Rev.14.7          nan                 Rev   \n",
       "2                       1      Rev.22.13          nan                 Rev   \n",
       "\n",
       "        To Verse start Chapter  To Verse start number To Verse end Book  \\\n",
       "0                           21                      6               nan   \n",
       "172385                      12                      1               nan   \n",
       "172386                      12                      1               nan   \n",
       "175504                      16                      2              Matt   \n",
       "175503                       2                      2               nan   \n",
       "...                        ...                    ...               ...   \n",
       "7                            6                     12               nan   \n",
       "4                            3                     14               nan   \n",
       "3                           10                      6               nan   \n",
       "1                           14                      7               nan   \n",
       "2                           22                     13               nan   \n",
       "\n",
       "       To Verse end Chapter To Verse end number  From Book number  \\\n",
       "0                       nan                 nan                 1   \n",
       "172385                  nan                 nan                 1   \n",
       "172386                  nan                 nan                 1   \n",
       "175504                   16                   3                 1   \n",
       "175503                  nan                 nan                 1   \n",
       "...                     ...                 ...               ...   \n",
       "7                       nan                 nan                 1   \n",
       "4                       nan                 nan                 1   \n",
       "3                       nan                 nan                 1   \n",
       "1                       nan                 nan                 1   \n",
       "2                       nan                 nan                 1   \n",
       "\n",
       "        To Verse start Book number To Verse end Book number  \\\n",
       "0                               66                      nan   \n",
       "172385                          38                      nan   \n",
       "172386                          38                      nan   \n",
       "175504                          40                       40   \n",
       "175503                          40                      nan   \n",
       "...                            ...                      ...   \n",
       "7                               66                      nan   \n",
       "4                               66                      nan   \n",
       "3                               66                      nan   \n",
       "1                               66                      nan   \n",
       "2                               66                      nan   \n",
       "\n",
       "       From Book Testament To Book Testament  \n",
       "0                      Old               New  \n",
       "172385                 Old               Old  \n",
       "172386                 Old               Old  \n",
       "175504                 Old               New  \n",
       "175503                 Old               New  \n",
       "...                    ...               ...  \n",
       "7                      Old               New  \n",
       "4                      Old               New  \n",
       "3                      Old               New  \n",
       "1                      Old               New  \n",
       "2                      Old               New  \n",
       "\n",
       "[426 rows x 19 columns]"
      ]
     },
     "execution_count": 14,
     "metadata": {},
     "output_type": "execute_result"
    }
   ],
   "source": [
    "book_dict.get(book_list[0])[book_dict.get(book_list[0])['From Chapter'] == 1]"
   ]
  },
  {
   "cell_type": "code",
   "execution_count": 15,
   "metadata": {
    "colab": {
     "base_uri": "https://localhost:8080/"
    },
    "executionInfo": {
     "elapsed": 5,
     "status": "ok",
     "timestamp": 1712876583568,
     "user": {
      "displayName": "Shawn Handran",
      "userId": "12018415590282902479"
     },
     "user_tz": 420
    },
    "id": "fdaH-TD0xgf4",
    "outputId": "44031b11-8208-4ac3-80e7-45f0acdfe1f5"
   },
   "outputs": [
    {
     "data": {
      "text/plain": [
       "50"
      ]
     },
     "execution_count": 15,
     "metadata": {},
     "output_type": "execute_result"
    }
   ],
   "source": [
    "len(book_dict.get(book_list[0])['From Chapter'].unique())"
   ]
  },
  {
   "cell_type": "code",
   "execution_count": 16,
   "metadata": {
    "colab": {
     "base_uri": "https://localhost:8080/"
    },
    "executionInfo": {
     "elapsed": 4,
     "status": "ok",
     "timestamp": 1712876583568,
     "user": {
      "displayName": "Shawn Handran",
      "userId": "12018415590282902479"
     },
     "user_tz": 420
    },
    "id": "m8nKS_iyyYFt",
    "outputId": "1e2687e0-89b2-4acc-f42f-5a1d09f45447"
   },
   "outputs": [
    {
     "data": {
      "text/plain": [
       "1"
      ]
     },
     "execution_count": 16,
     "metadata": {},
     "output_type": "execute_result"
    }
   ],
   "source": [
    "book_dict.get(book_list[0])['From Chapter'].unique()[0]"
   ]
  },
  {
   "cell_type": "code",
   "execution_count": 17,
   "metadata": {
    "executionInfo": {
     "elapsed": 1830,
     "status": "ok",
     "timestamp": 1712876585395,
     "user": {
      "displayName": "Shawn Handran",
      "userId": "12018415590282902479"
     },
     "user_tz": 420
    },
    "id": "lOC7tQVywIj0"
   },
   "outputs": [],
   "source": [
    "from_chap_dict = {}\n",
    "for i in range(len(book_list)):\n",
    "  book_iter = book_dict.get(book_list[i])\n",
    "  for j in range(len(book_iter['From Chapter'].unique())):\n",
    "    chap_sort = np.sort(book_iter['From Chapter'].unique(), axis=None)\n",
    "    from_chap_dict[book_list[i] + '_' + str(chap_sort[j])] = book_dict.get(book_list[i])[book_iter['From Chapter'] == chap_sort[j]]"
   ]
  },
  {
   "cell_type": "code",
   "execution_count": 18,
   "metadata": {
    "colab": {
     "base_uri": "https://localhost:8080/"
    },
    "executionInfo": {
     "elapsed": 5,
     "status": "ok",
     "timestamp": 1712876585395,
     "user": {
      "displayName": "Shawn Handran",
      "userId": "12018415590282902479"
     },
     "user_tz": 420
    },
    "id": "e1UZV5xZs-en",
    "outputId": "382b37fa-7d14-4624-fc94-042c4e2d6c0c"
   },
   "outputs": [
    {
     "name": "stdout",
     "output_type": "stream",
     "text": [
      "number of chapters in the Bible: 1189\n"
     ]
    }
   ],
   "source": [
    "print(f'number of chapters in the Bible:', len(from_chap_dict))"
   ]
  },
  {
   "cell_type": "code",
   "execution_count": 19,
   "metadata": {
    "executionInfo": {
     "elapsed": 3,
     "status": "ok",
     "timestamp": 1712876585395,
     "user": {
      "displayName": "Shawn Handran",
      "userId": "12018415590282902479"
     },
     "user_tz": 420
    },
    "id": "DxHSuRsa2PyG"
   },
   "outputs": [],
   "source": [
    "# Bible Gateway lookup\n",
    "bg_base = 'https://www.biblegateway.com/passage/?search='\n",
    "bg_version = '&version=ESV'"
   ]
  },
  {
   "cell_type": "code",
   "execution_count": 20,
   "metadata": {
    "executionInfo": {
     "elapsed": 220,
     "status": "ok",
     "timestamp": 1712876585612,
     "user": {
      "displayName": "Shawn Handran",
      "userId": "12018415590282902479"
     },
     "user_tz": 420
    },
    "id": "NH-HTWbYAoTQ"
   },
   "outputs": [],
   "source": [
    "book_max_list = []\n",
    "for i in range(len(book_list)):\n",
    "  book_max_list.append(book_list[i] + '_' + str(book_dict.get(book_list[i])['From Chapter'].max()))"
   ]
  },
  {
   "cell_type": "code",
   "execution_count": 21,
   "metadata": {
    "colab": {
     "base_uri": "https://localhost:8080/"
    },
    "executionInfo": {
     "elapsed": 3,
     "status": "ok",
     "timestamp": 1712876585613,
     "user": {
      "displayName": "Shawn Handran",
      "userId": "12018415590282902479"
     },
     "user_tz": 420
    },
    "id": "5AFZ8Ij5CP93",
    "outputId": "916ef4d8-4700-44ac-d514-4cced5b58510"
   },
   "outputs": [
    {
     "name": "stdout",
     "output_type": "stream",
     "text": [
      "['Gen_50', 'Exod_40', 'Lev_27', 'Num_36', 'Deut_34', 'Josh_24', 'Judg_21', 'Ruth_4', '1Sam_31', '2Sam_24', '1Kgs_22', '2Kgs_25', '1Chr_29', '2Chr_36', 'Ezra_10', 'Neh_13', 'Esth_10', 'Job_42', 'Ps_150', 'Prov_31', 'Eccl_12', 'Song_8', 'Isa_66', 'Jer_52', 'Lam_5', 'Ezek_48', 'Dan_12', 'Hos_14', 'Joel_3', 'Amos_9', 'Obad_1', 'Jonah_4', 'Mic_7', 'Nah_3', 'Hab_3', 'Zeph_3', 'Hag_2', 'Zech_14', 'Mal_4', 'Matt_28', 'Mark_16', 'Luke_24', 'John_21', 'Acts_28', 'Rom_16', '1Cor_16', '2Cor_13', 'Gal_6', 'Eph_6', 'Phil_4', 'Col_4', '1Thess_5', '2Thess_3', '1Tim_6', '2Tim_4', 'Titus_3', 'Phlm_1', 'Heb_13', 'Jas_5', '1Pet_5', '2Pet_3', '1John_5', '2John_1', '3John_1', 'Jude_1', 'Rev_22']\n"
     ]
    }
   ],
   "source": [
    "print(book_max_list)"
   ]
  },
  {
   "cell_type": "code",
   "execution_count": 22,
   "metadata": {
    "colab": {
     "base_uri": "https://localhost:8080/"
    },
    "executionInfo": {
     "elapsed": 165,
     "status": "ok",
     "timestamp": 1712879199500,
     "user": {
      "displayName": "Shawn Handran",
      "userId": "12018415590282902479"
     },
     "user_tz": 420
    },
    "id": "HtyPABAZ4JcO",
    "outputId": "4e1131dc-d9b1-40f5-b22a-607df4870f26"
   },
   "outputs": [
    {
     "name": "stdout",
     "output_type": "stream",
     "text": [
      "From verse: Rev 22:1 https://www.biblegateway.com/passage/?search=Rev.22.1\n",
      "\n",
      "To verses:\n",
      "Ps.36.8-Ps.36.9 https://www.biblegateway.com/passage/?search=Ps.36.8-Ps.36.9&version=ESV\n",
      "Ps.46.4 https://www.biblegateway.com/passage/?search=Ps.46.4&version=ESV\n",
      "Isa.41.18 https://www.biblegateway.com/passage/?search=Isa.41.18&version=ESV\n",
      "Isa.48.18 https://www.biblegateway.com/passage/?search=Isa.48.18&version=ESV\n",
      "Isa.66.12 https://www.biblegateway.com/passage/?search=Isa.66.12&version=ESV\n",
      "Jer.2.13 https://www.biblegateway.com/passage/?search=Jer.2.13&version=ESV\n",
      "Jer.17.13 https://www.biblegateway.com/passage/?search=Jer.17.13&version=ESV\n",
      "Ezek.47.1-Ezek.47.9 https://www.biblegateway.com/passage/?search=Ezek.47.1-Ezek.47.9&version=ESV\n",
      "Zech.14.8 https://www.biblegateway.com/passage/?search=Zech.14.8&version=ESV\n",
      "John.4.10-John.4.11 https://www.biblegateway.com/passage/?search=John.4.10-John.4.11&version=ESV\n",
      "John.4.14 https://www.biblegateway.com/passage/?search=John.4.14&version=ESV\n",
      "John.7.38-John.7.39 https://www.biblegateway.com/passage/?search=John.7.38-John.7.39&version=ESV\n",
      "John.14.16-John.14.18 https://www.biblegateway.com/passage/?search=John.14.16-John.14.18&version=ESV\n",
      "John.15.26 https://www.biblegateway.com/passage/?search=John.15.26&version=ESV\n",
      "John.16.7-John.16.15 https://www.biblegateway.com/passage/?search=John.16.7-John.16.15&version=ESV\n",
      "Acts.1.4-Acts.1.5 https://www.biblegateway.com/passage/?search=Acts.1.4-Acts.1.5&version=ESV\n",
      "Acts.2.33 https://www.biblegateway.com/passage/?search=Acts.2.33&version=ESV\n",
      "Rev.3.21 https://www.biblegateway.com/passage/?search=Rev.3.21&version=ESV\n",
      "Rev.4.5-Rev.4.6 https://www.biblegateway.com/passage/?search=Rev.4.5-Rev.4.6&version=ESV\n",
      "Rev.5.6 https://www.biblegateway.com/passage/?search=Rev.5.6&version=ESV\n",
      "Rev.5.13 https://www.biblegateway.com/passage/?search=Rev.5.13&version=ESV\n",
      "Rev.7.10-Rev.7.11 https://www.biblegateway.com/passage/?search=Rev.7.10-Rev.7.11&version=ESV\n",
      "Rev.7.17 https://www.biblegateway.com/passage/?search=Rev.7.17&version=ESV\n",
      "Rev.21.6 https://www.biblegateway.com/passage/?search=Rev.21.6&version=ESV\n",
      "Rev.21.11 https://www.biblegateway.com/passage/?search=Rev.21.11&version=ESV\n",
      "Rev.22.17 https://www.biblegateway.com/passage/?search=Rev.22.17&version=ESV\n"
     ]
    }
   ],
   "source": [
    "# enter Book, Chapter and Verse number of interest\n",
    "# use the cell above to enter the proper Book abbreviation and to see the max chapter number\n",
    "\n",
    "book_query = 'Rev'\n",
    "chapter_query = 22\n",
    "versenum = 1\n",
    "\n",
    "df_query = book_query + '_' + str(chapter_query)\n",
    "queryf_sort = from_chap_dict.get(df_query).sort_values(['From Chapter', 'From Verse number'])\n",
    "\n",
    "queryf_sort_versenum = queryf_sort[queryf_sort['From Verse number'] == versenum].sort_values(['To Verse start Book number', 'To Verse start Chapter', 'To Verse start number'])\n",
    "#queryf_sort_versenum\n",
    "\n",
    "print('From verse: ' +book_query + ' ' + str(chapter_query) + ':' + str(versenum) + ' ' + bg_base + book_query + '.' + str(chapter_query) + '.' + str(versenum))\n",
    "print()\n",
    "print(\"To verses:\")\n",
    "queryf_sort_versenum_list = queryf_sort_versenum['To Verse'].to_list()\n",
    "for i in range(len(queryf_sort_versenum)):\n",
    "  reff = queryf_sort_versenum_list[i]\n",
    "  print(reff, bg_base + reff + bg_version)"
   ]
  },
  {
   "cell_type": "code",
   "execution_count": 23,
   "metadata": {
    "executionInfo": {
     "elapsed": 159,
     "status": "ok",
     "timestamp": 1712879221682,
     "user": {
      "displayName": "Shawn Handran",
      "userId": "12018415590282902479"
     },
     "user_tz": 420
    },
    "id": "SfU2SurSaiLf"
   },
   "outputs": [],
   "source": [
    "# queryf_sort_versenum"
   ]
  },
  {
   "cell_type": "code",
   "execution_count": null,
   "metadata": {
    "id": "OLmDO_aIb_Tz"
   },
   "outputs": [],
   "source": []
  }
 ],
 "metadata": {
  "colab": {
   "authorship_tag": "ABX9TyOYboNpmD/vi4dLGmz/2MHF",
   "provenance": []
  },
  "kernelspec": {
   "display_name": "Python 3 (ipykernel)",
   "language": "python",
   "name": "python3"
  },
  "language_info": {
   "codemirror_mode": {
    "name": "ipython",
    "version": 3
   },
   "file_extension": ".py",
   "mimetype": "text/x-python",
   "name": "python",
   "nbconvert_exporter": "python",
   "pygments_lexer": "ipython3",
   "version": "3.9.12"
  }
 },
 "nbformat": 4,
 "nbformat_minor": 1
}
