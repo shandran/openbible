{
 "cells": [
  {
   "cell_type": "code",
   "execution_count": null,
   "id": "8e037774-e330-4cdf-bd86-128723f7d48d",
   "metadata": {},
   "outputs": [],
   "source": [
    "import json\n",
    "import pandas as pd\n",
    "import plotly.express as px"
   ]
  },
  {
   "cell_type": "code",
   "execution_count": 3,
   "id": "07f898b7-df53-4b1f-a8d2-6b8418a6b5fb",
   "metadata": {},
   "outputs": [
    {
     "name": "stdout",
     "output_type": "stream",
     "text": [
      "<class 'dict'>\n",
      "dict_keys(['metadata', 'verses'])\n"
     ]
    }
   ],
   "source": [
    "# Load the JSON file\n",
    "with open(\"tr.json\", \"r\", encoding=\"utf-8\") as file:\n",
    "    tr = json.load(file)\n",
    "\n",
    "# Check the structure\n",
    "print(type(tr))  # dict or list\n",
    "print(tr.keys() if isinstance(tr, dict) else len(tr))\n"
   ]
  },
  {
   "cell_type": "code",
   "execution_count": 6,
   "id": "4ad691b5",
   "metadata": {},
   "outputs": [
    {
     "data": {
      "text/plain": [
       "{'name': 'Textus Receptus NT',\n",
       " 'shortname': 'TR',\n",
       " 'module': 'tr',\n",
       " 'year': '1550 / 1884',\n",
       " 'publisher': None,\n",
       " 'owner': None,\n",
       " 'description': \"<b>Greek NT: Textus Receptus (1550/1894)</b><p />The Textus Receptus; base text is Stephens 1550, with variants of Scrivener 1894.<br /><br />This Bible imported from The Unbound Bible <a href='http://unbound.biola.edu/'>http://unbound.biola.edu/</a>\",\n",
       " 'lang': 'Greek',\n",
       " 'lang_short': 'grc',\n",
       " 'copyright': 0,\n",
       " 'copyright_statement': 'This Bible is in the Public Domain.',\n",
       " 'url': None,\n",
       " 'citation_limit': 0,\n",
       " 'restrict': 0,\n",
       " 'italics': 0,\n",
       " 'strongs': 0,\n",
       " 'red_letter': 0,\n",
       " 'paragraph': 0,\n",
       " 'official': 1,\n",
       " 'research': 0,\n",
       " 'module_version': '5.0.0alpha1'}"
      ]
     },
     "execution_count": 6,
     "metadata": {},
     "output_type": "execute_result"
    }
   ],
   "source": [
    "tr['metadata']"
   ]
  },
  {
   "cell_type": "code",
   "execution_count": 9,
   "id": "3e550160",
   "metadata": {},
   "outputs": [
    {
     "name": "stdout",
     "output_type": "stream",
     "text": [
      "dict_keys(['book_name', 'book', 'chapter', 'verse', 'text'])\n"
     ]
    }
   ],
   "source": [
    "print(tr['verses'][0].keys())"
   ]
  },
  {
   "cell_type": "code",
   "execution_count": 10,
   "id": "323c04d4-07bc-44f7-aff2-aca86af77c2b",
   "metadata": {
    "scrolled": true
   },
   "outputs": [
    {
     "data": {
      "text/html": [
       "<div>\n",
       "<style scoped>\n",
       "    .dataframe tbody tr th:only-of-type {\n",
       "        vertical-align: middle;\n",
       "    }\n",
       "\n",
       "    .dataframe tbody tr th {\n",
       "        vertical-align: top;\n",
       "    }\n",
       "\n",
       "    .dataframe thead th {\n",
       "        text-align: right;\n",
       "    }\n",
       "</style>\n",
       "<table border=\"1\" class=\"dataframe\">\n",
       "  <thead>\n",
       "    <tr style=\"text-align: right;\">\n",
       "      <th></th>\n",
       "      <th>book_name</th>\n",
       "      <th>book</th>\n",
       "      <th>chapter</th>\n",
       "      <th>verse</th>\n",
       "      <th>text</th>\n",
       "    </tr>\n",
       "  </thead>\n",
       "  <tbody>\n",
       "    <tr>\n",
       "      <th>0</th>\n",
       "      <td>Matthew</td>\n",
       "      <td>40</td>\n",
       "      <td>1</td>\n",
       "      <td>1</td>\n",
       "      <td>βιβλος γενεσεως ιησου χριστου υιου δαβιδ υιου ...</td>\n",
       "    </tr>\n",
       "    <tr>\n",
       "      <th>1</th>\n",
       "      <td>Matthew</td>\n",
       "      <td>40</td>\n",
       "      <td>1</td>\n",
       "      <td>2</td>\n",
       "      <td>αβρααμ εγεννησεν τον ισαακ ισαακ δε εγεννησεν ...</td>\n",
       "    </tr>\n",
       "    <tr>\n",
       "      <th>2</th>\n",
       "      <td>Matthew</td>\n",
       "      <td>40</td>\n",
       "      <td>1</td>\n",
       "      <td>3</td>\n",
       "      <td>ιουδας δε εγεννησεν τον φαρες και τον ζαρα εκ ...</td>\n",
       "    </tr>\n",
       "    <tr>\n",
       "      <th>3</th>\n",
       "      <td>Matthew</td>\n",
       "      <td>40</td>\n",
       "      <td>1</td>\n",
       "      <td>4</td>\n",
       "      <td>αραμ δε εγεννησεν τον αμιναδαβ αμιναδαβ δε εγε...</td>\n",
       "    </tr>\n",
       "    <tr>\n",
       "      <th>4</th>\n",
       "      <td>Matthew</td>\n",
       "      <td>40</td>\n",
       "      <td>1</td>\n",
       "      <td>5</td>\n",
       "      <td>σαλμων δε εγεννησεν τον βοοζ εκ της ραχαβ βοοζ...</td>\n",
       "    </tr>\n",
       "    <tr>\n",
       "      <th>...</th>\n",
       "      <td>...</td>\n",
       "      <td>...</td>\n",
       "      <td>...</td>\n",
       "      <td>...</td>\n",
       "      <td>...</td>\n",
       "    </tr>\n",
       "    <tr>\n",
       "      <th>7953</th>\n",
       "      <td>Revelation</td>\n",
       "      <td>66</td>\n",
       "      <td>22</td>\n",
       "      <td>17</td>\n",
       "      <td>και το πνευμα και η νυμφη λεγουσιν ελθε και ο ...</td>\n",
       "    </tr>\n",
       "    <tr>\n",
       "      <th>7954</th>\n",
       "      <td>Revelation</td>\n",
       "      <td>66</td>\n",
       "      <td>22</td>\n",
       "      <td>18</td>\n",
       "      <td>συμμαρτυρουμαι γαρ παντι ακουοντι τους λογους ...</td>\n",
       "    </tr>\n",
       "    <tr>\n",
       "      <th>7955</th>\n",
       "      <td>Revelation</td>\n",
       "      <td>66</td>\n",
       "      <td>22</td>\n",
       "      <td>19</td>\n",
       "      <td>και εαν τις αφαιρη απο των λογων βιβλου της πρ...</td>\n",
       "    </tr>\n",
       "    <tr>\n",
       "      <th>7956</th>\n",
       "      <td>Revelation</td>\n",
       "      <td>66</td>\n",
       "      <td>22</td>\n",
       "      <td>20</td>\n",
       "      <td>λεγει ο μαρτυρων ταυτα ναι ερχομαι ταχυ αμην ν...</td>\n",
       "    </tr>\n",
       "    <tr>\n",
       "      <th>7957</th>\n",
       "      <td>Revelation</td>\n",
       "      <td>66</td>\n",
       "      <td>22</td>\n",
       "      <td>21</td>\n",
       "      <td>η χαρις του κυριου ημων ιησου χριστου μετα παν...</td>\n",
       "    </tr>\n",
       "  </tbody>\n",
       "</table>\n",
       "<p>7958 rows × 5 columns</p>\n",
       "</div>"
      ],
      "text/plain": [
       "       book_name  book  chapter  verse  \\\n",
       "0        Matthew    40        1      1   \n",
       "1        Matthew    40        1      2   \n",
       "2        Matthew    40        1      3   \n",
       "3        Matthew    40        1      4   \n",
       "4        Matthew    40        1      5   \n",
       "...          ...   ...      ...    ...   \n",
       "7953  Revelation    66       22     17   \n",
       "7954  Revelation    66       22     18   \n",
       "7955  Revelation    66       22     19   \n",
       "7956  Revelation    66       22     20   \n",
       "7957  Revelation    66       22     21   \n",
       "\n",
       "                                                   text  \n",
       "0     βιβλος γενεσεως ιησου χριστου υιου δαβιδ υιου ...  \n",
       "1     αβρααμ εγεννησεν τον ισαακ ισαακ δε εγεννησεν ...  \n",
       "2     ιουδας δε εγεννησεν τον φαρες και τον ζαρα εκ ...  \n",
       "3     αραμ δε εγεννησεν τον αμιναδαβ αμιναδαβ δε εγε...  \n",
       "4     σαλμων δε εγεννησεν τον βοοζ εκ της ραχαβ βοοζ...  \n",
       "...                                                 ...  \n",
       "7953  και το πνευμα και η νυμφη λεγουσιν ελθε και ο ...  \n",
       "7954  συμμαρτυρουμαι γαρ παντι ακουοντι τους λογους ...  \n",
       "7955  και εαν τις αφαιρη απο των λογων βιβλου της πρ...  \n",
       "7956  λεγει ο μαρτυρων ταυτα ναι ερχομαι ταχυ αμην ν...  \n",
       "7957  η χαρις του κυριου ημων ιησου χριστου μετα παν...  \n",
       "\n",
       "[7958 rows x 5 columns]"
      ]
     },
     "metadata": {},
     "output_type": "display_data"
    }
   ],
   "source": [
    "# Extract the \"verses\" data\n",
    "if \"verses\" in tr:\n",
    "    tr_df = pd.DataFrame(tr[\"verses\"])  # Convert the list of verses to a DataFrame\n",
    "    display(tr_df)  # Display the DataFrame in Jupyter Notebook\n",
    "else:\n",
    "    print(\"Error: 'verses' key not found in JSON data\")\n"
   ]
  },
  {
   "cell_type": "code",
   "execution_count": 37,
   "id": "d3b550e6-4458-487f-89fa-8bad7d38017e",
   "metadata": {},
   "outputs": [],
   "source": [
    "# print(json.dumps(tr[\"verses\"][:3], indent=4))  # Prints the first 3 entries neatly formatted"
   ]
  },
  {
   "cell_type": "code",
   "execution_count": 12,
   "id": "21454ebe-a8af-4e0b-b5d7-372d47845131",
   "metadata": {},
   "outputs": [
    {
     "name": "stdout",
     "output_type": "stream",
     "text": [
      "book_name                                              Matthew\n",
      "book                                                        40\n",
      "chapter                                                      1\n",
      "verse                                                        1\n",
      "text         βιβλος γενεσεως ιησου χριστου υιου δαβιδ υιου ...\n",
      "Name: 0, dtype: object\n"
     ]
    }
   ],
   "source": [
    "print(tr_df.iloc[0])"
   ]
  },
  {
   "cell_type": "code",
   "execution_count": 13,
   "id": "38d8b6ff-b334-41e0-8417-3b34b80c830e",
   "metadata": {},
   "outputs": [
    {
     "data": {
      "text/html": [
       "<div>\n",
       "<style scoped>\n",
       "    .dataframe tbody tr th:only-of-type {\n",
       "        vertical-align: middle;\n",
       "    }\n",
       "\n",
       "    .dataframe tbody tr th {\n",
       "        vertical-align: top;\n",
       "    }\n",
       "\n",
       "    .dataframe thead th {\n",
       "        text-align: right;\n",
       "    }\n",
       "</style>\n",
       "<table border=\"1\" class=\"dataframe\">\n",
       "  <thead>\n",
       "    <tr style=\"text-align: right;\">\n",
       "      <th></th>\n",
       "      <th>book_name</th>\n",
       "      <th>book</th>\n",
       "      <th>chapter</th>\n",
       "      <th>verse</th>\n",
       "      <th>text</th>\n",
       "    </tr>\n",
       "  </thead>\n",
       "  <tbody>\n",
       "    <tr>\n",
       "      <th>0</th>\n",
       "      <td>Matthew</td>\n",
       "      <td>40</td>\n",
       "      <td>1</td>\n",
       "      <td>1</td>\n",
       "      <td>βιβλος γενεσεως ιησου χριστου υιου δαβιδ υιου ...</td>\n",
       "    </tr>\n",
       "    <tr>\n",
       "      <th>1</th>\n",
       "      <td>Matthew</td>\n",
       "      <td>40</td>\n",
       "      <td>1</td>\n",
       "      <td>2</td>\n",
       "      <td>αβρααμ εγεννησεν τον ισαακ ισαακ δε εγεννησεν ...</td>\n",
       "    </tr>\n",
       "    <tr>\n",
       "      <th>2</th>\n",
       "      <td>Matthew</td>\n",
       "      <td>40</td>\n",
       "      <td>1</td>\n",
       "      <td>3</td>\n",
       "      <td>ιουδας δε εγεννησεν τον φαρες και τον ζαρα εκ ...</td>\n",
       "    </tr>\n",
       "    <tr>\n",
       "      <th>3</th>\n",
       "      <td>Matthew</td>\n",
       "      <td>40</td>\n",
       "      <td>1</td>\n",
       "      <td>4</td>\n",
       "      <td>αραμ δε εγεννησεν τον αμιναδαβ αμιναδαβ δε εγε...</td>\n",
       "    </tr>\n",
       "    <tr>\n",
       "      <th>4</th>\n",
       "      <td>Matthew</td>\n",
       "      <td>40</td>\n",
       "      <td>1</td>\n",
       "      <td>5</td>\n",
       "      <td>σαλμων δε εγεννησεν τον βοοζ εκ της ραχαβ βοοζ...</td>\n",
       "    </tr>\n",
       "    <tr>\n",
       "      <th>...</th>\n",
       "      <td>...</td>\n",
       "      <td>...</td>\n",
       "      <td>...</td>\n",
       "      <td>...</td>\n",
       "      <td>...</td>\n",
       "    </tr>\n",
       "    <tr>\n",
       "      <th>7953</th>\n",
       "      <td>Revelation</td>\n",
       "      <td>66</td>\n",
       "      <td>22</td>\n",
       "      <td>17</td>\n",
       "      <td>και το πνευμα και η νυμφη λεγουσιν ελθε και ο ...</td>\n",
       "    </tr>\n",
       "    <tr>\n",
       "      <th>7954</th>\n",
       "      <td>Revelation</td>\n",
       "      <td>66</td>\n",
       "      <td>22</td>\n",
       "      <td>18</td>\n",
       "      <td>συμμαρτυρουμαι γαρ παντι ακουοντι τους λογους ...</td>\n",
       "    </tr>\n",
       "    <tr>\n",
       "      <th>7955</th>\n",
       "      <td>Revelation</td>\n",
       "      <td>66</td>\n",
       "      <td>22</td>\n",
       "      <td>19</td>\n",
       "      <td>και εαν τις αφαιρη απο των λογων βιβλου της πρ...</td>\n",
       "    </tr>\n",
       "    <tr>\n",
       "      <th>7956</th>\n",
       "      <td>Revelation</td>\n",
       "      <td>66</td>\n",
       "      <td>22</td>\n",
       "      <td>20</td>\n",
       "      <td>λεγει ο μαρτυρων ταυτα ναι ερχομαι ταχυ αμην ν...</td>\n",
       "    </tr>\n",
       "    <tr>\n",
       "      <th>7957</th>\n",
       "      <td>Revelation</td>\n",
       "      <td>66</td>\n",
       "      <td>22</td>\n",
       "      <td>21</td>\n",
       "      <td>η χαρις του κυριου ημων ιησου χριστου μετα παν...</td>\n",
       "    </tr>\n",
       "  </tbody>\n",
       "</table>\n",
       "<p>7958 rows × 5 columns</p>\n",
       "</div>"
      ],
      "text/plain": [
       "       book_name  book  chapter  verse  \\\n",
       "0        Matthew    40        1      1   \n",
       "1        Matthew    40        1      2   \n",
       "2        Matthew    40        1      3   \n",
       "3        Matthew    40        1      4   \n",
       "4        Matthew    40        1      5   \n",
       "...          ...   ...      ...    ...   \n",
       "7953  Revelation    66       22     17   \n",
       "7954  Revelation    66       22     18   \n",
       "7955  Revelation    66       22     19   \n",
       "7956  Revelation    66       22     20   \n",
       "7957  Revelation    66       22     21   \n",
       "\n",
       "                                                   text  \n",
       "0     βιβλος γενεσεως ιησου χριστου υιου δαβιδ υιου ...  \n",
       "1     αβρααμ εγεννησεν τον ισαακ ισαακ δε εγεννησεν ...  \n",
       "2     ιουδας δε εγεννησεν τον φαρες και τον ζαρα εκ ...  \n",
       "3     αραμ δε εγεννησεν τον αμιναδαβ αμιναδαβ δε εγε...  \n",
       "4     σαλμων δε εγεννησεν τον βοοζ εκ της ραχαβ βοοζ...  \n",
       "...                                                 ...  \n",
       "7953  και το πνευμα και η νυμφη λεγουσιν ελθε και ο ...  \n",
       "7954  συμμαρτυρουμαι γαρ παντι ακουοντι τους λογους ...  \n",
       "7955  και εαν τις αφαιρη απο των λογων βιβλου της πρ...  \n",
       "7956  λεγει ο μαρτυρων ταυτα ναι ερχομαι ταχυ αμην ν...  \n",
       "7957  η χαρις του κυριου ημων ιησου χριστου μετα παν...  \n",
       "\n",
       "[7958 rows x 5 columns]"
      ]
     },
     "execution_count": 13,
     "metadata": {},
     "output_type": "execute_result"
    }
   ],
   "source": [
    "tr_df"
   ]
  },
  {
   "cell_type": "code",
   "execution_count": 14,
   "id": "87191dfe-ecf8-48ec-9b63-a6c24a188b8b",
   "metadata": {},
   "outputs": [],
   "source": [
    "# tr_df.text[5000]"
   ]
  },
  {
   "cell_type": "code",
   "execution_count": 15,
   "id": "4c2413d3-2527-42a9-8322-cebf67b19be7",
   "metadata": {},
   "outputs": [],
   "source": [
    "# Calculate word count and character count\n",
    "\n",
    "# For word count\n",
    "tr_df['word_count'] = tr_df['text'].str.split().str.len()\n",
    "\n",
    "# For character count (excluding spaces)\n",
    "tr_df['char_count'] = tr_df['text'].str.replace(\" \", \"\", regex=False).str.len()\n"
   ]
  },
  {
   "cell_type": "code",
   "execution_count": 16,
   "id": "847dabb7",
   "metadata": {},
   "outputs": [
    {
     "data": {
      "text/html": [
       "<div>\n",
       "<style scoped>\n",
       "    .dataframe tbody tr th:only-of-type {\n",
       "        vertical-align: middle;\n",
       "    }\n",
       "\n",
       "    .dataframe tbody tr th {\n",
       "        vertical-align: top;\n",
       "    }\n",
       "\n",
       "    .dataframe thead th {\n",
       "        text-align: right;\n",
       "    }\n",
       "</style>\n",
       "<table border=\"1\" class=\"dataframe\">\n",
       "  <thead>\n",
       "    <tr style=\"text-align: right;\">\n",
       "      <th></th>\n",
       "      <th>book_name</th>\n",
       "      <th>book</th>\n",
       "      <th>chapter</th>\n",
       "      <th>verse</th>\n",
       "      <th>text</th>\n",
       "      <th>word_count</th>\n",
       "      <th>char_count</th>\n",
       "    </tr>\n",
       "  </thead>\n",
       "  <tbody>\n",
       "    <tr>\n",
       "      <th>0</th>\n",
       "      <td>Matthew</td>\n",
       "      <td>40</td>\n",
       "      <td>1</td>\n",
       "      <td>1</td>\n",
       "      <td>βιβλος γενεσεως ιησου χριστου υιου δαβιδ υιου ...</td>\n",
       "      <td>8</td>\n",
       "      <td>45</td>\n",
       "    </tr>\n",
       "    <tr>\n",
       "      <th>1</th>\n",
       "      <td>Matthew</td>\n",
       "      <td>40</td>\n",
       "      <td>1</td>\n",
       "      <td>2</td>\n",
       "      <td>αβρααμ εγεννησεν τον ισαακ ισαακ δε εγεννησεν ...</td>\n",
       "      <td>18</td>\n",
       "      <td>92</td>\n",
       "    </tr>\n",
       "    <tr>\n",
       "      <th>2</th>\n",
       "      <td>Matthew</td>\n",
       "      <td>40</td>\n",
       "      <td>1</td>\n",
       "      <td>3</td>\n",
       "      <td>ιουδας δε εγεννησεν τον φαρες και τον ζαρα εκ ...</td>\n",
       "      <td>21</td>\n",
       "      <td>92</td>\n",
       "    </tr>\n",
       "    <tr>\n",
       "      <th>3</th>\n",
       "      <td>Matthew</td>\n",
       "      <td>40</td>\n",
       "      <td>1</td>\n",
       "      <td>4</td>\n",
       "      <td>αραμ δε εγεννησεν τον αμιναδαβ αμιναδαβ δε εγε...</td>\n",
       "      <td>15</td>\n",
       "      <td>82</td>\n",
       "    </tr>\n",
       "    <tr>\n",
       "      <th>4</th>\n",
       "      <td>Matthew</td>\n",
       "      <td>40</td>\n",
       "      <td>1</td>\n",
       "      <td>5</td>\n",
       "      <td>σαλμων δε εγεννησεν τον βοοζ εκ της ραχαβ βοοζ...</td>\n",
       "      <td>21</td>\n",
       "      <td>89</td>\n",
       "    </tr>\n",
       "    <tr>\n",
       "      <th>...</th>\n",
       "      <td>...</td>\n",
       "      <td>...</td>\n",
       "      <td>...</td>\n",
       "      <td>...</td>\n",
       "      <td>...</td>\n",
       "      <td>...</td>\n",
       "      <td>...</td>\n",
       "    </tr>\n",
       "    <tr>\n",
       "      <th>7953</th>\n",
       "      <td>Revelation</td>\n",
       "      <td>66</td>\n",
       "      <td>22</td>\n",
       "      <td>17</td>\n",
       "      <td>και το πνευμα και η νυμφη λεγουσιν ελθε και ο ...</td>\n",
       "      <td>25</td>\n",
       "      <td>101</td>\n",
       "    </tr>\n",
       "    <tr>\n",
       "      <th>7954</th>\n",
       "      <td>Revelation</td>\n",
       "      <td>66</td>\n",
       "      <td>22</td>\n",
       "      <td>18</td>\n",
       "      <td>συμμαρτυρουμαι γαρ παντι ακουοντι τους λογους ...</td>\n",
       "      <td>28</td>\n",
       "      <td>147</td>\n",
       "    </tr>\n",
       "    <tr>\n",
       "      <th>7955</th>\n",
       "      <td>Revelation</td>\n",
       "      <td>66</td>\n",
       "      <td>22</td>\n",
       "      <td>19</td>\n",
       "      <td>και εαν τις αφαιρη απο των λογων βιβλου της πρ...</td>\n",
       "      <td>33</td>\n",
       "      <td>145</td>\n",
       "    </tr>\n",
       "    <tr>\n",
       "      <th>7956</th>\n",
       "      <td>Revelation</td>\n",
       "      <td>66</td>\n",
       "      <td>22</td>\n",
       "      <td>20</td>\n",
       "      <td>λεγει ο μαρτυρων ταυτα ναι ερχομαι ταχυ αμην ν...</td>\n",
       "      <td>12</td>\n",
       "      <td>55</td>\n",
       "    </tr>\n",
       "    <tr>\n",
       "      <th>7957</th>\n",
       "      <td>Revelation</td>\n",
       "      <td>66</td>\n",
       "      <td>22</td>\n",
       "      <td>21</td>\n",
       "      <td>η χαρις του κυριου ημων ιησου χριστου μετα παν...</td>\n",
       "      <td>11</td>\n",
       "      <td>49</td>\n",
       "    </tr>\n",
       "  </tbody>\n",
       "</table>\n",
       "<p>7958 rows × 7 columns</p>\n",
       "</div>"
      ],
      "text/plain": [
       "       book_name  book  chapter  verse  \\\n",
       "0        Matthew    40        1      1   \n",
       "1        Matthew    40        1      2   \n",
       "2        Matthew    40        1      3   \n",
       "3        Matthew    40        1      4   \n",
       "4        Matthew    40        1      5   \n",
       "...          ...   ...      ...    ...   \n",
       "7953  Revelation    66       22     17   \n",
       "7954  Revelation    66       22     18   \n",
       "7955  Revelation    66       22     19   \n",
       "7956  Revelation    66       22     20   \n",
       "7957  Revelation    66       22     21   \n",
       "\n",
       "                                                   text  word_count  \\\n",
       "0     βιβλος γενεσεως ιησου χριστου υιου δαβιδ υιου ...           8   \n",
       "1     αβρααμ εγεννησεν τον ισαακ ισαακ δε εγεννησεν ...          18   \n",
       "2     ιουδας δε εγεννησεν τον φαρες και τον ζαρα εκ ...          21   \n",
       "3     αραμ δε εγεννησεν τον αμιναδαβ αμιναδαβ δε εγε...          15   \n",
       "4     σαλμων δε εγεννησεν τον βοοζ εκ της ραχαβ βοοζ...          21   \n",
       "...                                                 ...         ...   \n",
       "7953  και το πνευμα και η νυμφη λεγουσιν ελθε και ο ...          25   \n",
       "7954  συμμαρτυρουμαι γαρ παντι ακουοντι τους λογους ...          28   \n",
       "7955  και εαν τις αφαιρη απο των λογων βιβλου της πρ...          33   \n",
       "7956  λεγει ο μαρτυρων ταυτα ναι ερχομαι ταχυ αμην ν...          12   \n",
       "7957  η χαρις του κυριου ημων ιησου χριστου μετα παν...          11   \n",
       "\n",
       "      char_count  \n",
       "0             45  \n",
       "1             92  \n",
       "2             92  \n",
       "3             82  \n",
       "4             89  \n",
       "...          ...  \n",
       "7953         101  \n",
       "7954         147  \n",
       "7955         145  \n",
       "7956          55  \n",
       "7957          49  \n",
       "\n",
       "[7958 rows x 7 columns]"
      ]
     },
     "execution_count": 16,
     "metadata": {},
     "output_type": "execute_result"
    }
   ],
   "source": [
    "tr_df"
   ]
  },
  {
   "cell_type": "code",
   "execution_count": 17,
   "id": "20e149d5",
   "metadata": {},
   "outputs": [
    {
     "data": {
      "text/plain": [
       "array(['Matthew', 'Mark', 'Luke', 'John', 'Acts', 'Romans',\n",
       "       '1 Corinthians', '2 Corinthians', 'Galatians', 'Ephesians',\n",
       "       'Philippians', 'Colossians', '1 Thessalonians', '2 Thessalonians',\n",
       "       '1 Timothy', '2 Timothy', 'Titus', 'Philemon', 'Hebrews', 'James',\n",
       "       '1 Peter', '2 Peter', '1 John', '2 John', '3 John', 'Jude',\n",
       "       'Revelation'], dtype=object)"
      ]
     },
     "execution_count": 17,
     "metadata": {},
     "output_type": "execute_result"
    }
   ],
   "source": [
    "tr_df['book_name'].unique()"
   ]
  },
  {
   "cell_type": "code",
   "execution_count": 18,
   "id": "3e2a251a",
   "metadata": {},
   "outputs": [
    {
     "name": "stdout",
     "output_type": "stream",
     "text": [
      "          book_name  word_count  char_count\n",
      "0     1 Corinthians        6963       33335\n",
      "1            1 John        2201        9699\n",
      "2           1 Peter        1743        9300\n",
      "3   1 Thessalonians        1511        7559\n",
      "4         1 Timothy        1657        9159\n",
      "5     2 Corinthians        4560       22651\n",
      "6            2 John         259        1191\n",
      "7           2 Peter        1128        6175\n",
      "8   2 Thessalonians         853        4175\n",
      "9         2 Timothy        1282        6754\n",
      "10           3 John         221        1114\n",
      "11             Acts       18967       98088\n",
      "12       Colossians        1646        8131\n",
      "13        Ephesians        2476       12240\n",
      "14        Galatians        2262       11243\n",
      "15          Hebrews        5037       26758\n",
      "16            James        1802        9090\n",
      "17             John       16003       72731\n",
      "18             Jude         463        2581\n",
      "19             Luke       20076       98628\n",
      "20             Mark       11724       58415\n",
      "21          Matthew       18849       92322\n",
      "22         Philemon         353        1655\n",
      "23      Philippians        1663        8151\n",
      "24       Revelation       10113       47202\n",
      "25           Romans        7249       35115\n",
      "26            Titus         683        3860\n"
     ]
    }
   ],
   "source": [
    "# Sum word_count and char_count for each book_name\n",
    "book_sums = tr_df.groupby('book_name')[['word_count', 'char_count']].sum().reset_index()\n",
    "print(book_sums)\n"
   ]
  },
  {
   "cell_type": "code",
   "execution_count": 19,
   "id": "b1244104",
   "metadata": {},
   "outputs": [
    {
     "data": {
      "text/plain": [
       "pandas.core.frame.DataFrame"
      ]
     },
     "execution_count": 19,
     "metadata": {},
     "output_type": "execute_result"
    }
   ],
   "source": [
    "type(book_sums)"
   ]
  },
  {
   "cell_type": "code",
   "execution_count": 20,
   "id": "0c220406",
   "metadata": {},
   "outputs": [
    {
     "data": {
      "text/html": [
       "<div>\n",
       "<style scoped>\n",
       "    .dataframe tbody tr th:only-of-type {\n",
       "        vertical-align: middle;\n",
       "    }\n",
       "\n",
       "    .dataframe tbody tr th {\n",
       "        vertical-align: top;\n",
       "    }\n",
       "\n",
       "    .dataframe thead th {\n",
       "        text-align: right;\n",
       "    }\n",
       "</style>\n",
       "<table border=\"1\" class=\"dataframe\">\n",
       "  <thead>\n",
       "    <tr style=\"text-align: right;\">\n",
       "      <th></th>\n",
       "      <th>book_name</th>\n",
       "      <th>word_count</th>\n",
       "      <th>char_count</th>\n",
       "    </tr>\n",
       "  </thead>\n",
       "  <tbody>\n",
       "    <tr>\n",
       "      <th>19</th>\n",
       "      <td>Luke</td>\n",
       "      <td>20076</td>\n",
       "      <td>98628</td>\n",
       "    </tr>\n",
       "    <tr>\n",
       "      <th>11</th>\n",
       "      <td>Acts</td>\n",
       "      <td>18967</td>\n",
       "      <td>98088</td>\n",
       "    </tr>\n",
       "    <tr>\n",
       "      <th>21</th>\n",
       "      <td>Matthew</td>\n",
       "      <td>18849</td>\n",
       "      <td>92322</td>\n",
       "    </tr>\n",
       "    <tr>\n",
       "      <th>17</th>\n",
       "      <td>John</td>\n",
       "      <td>16003</td>\n",
       "      <td>72731</td>\n",
       "    </tr>\n",
       "    <tr>\n",
       "      <th>20</th>\n",
       "      <td>Mark</td>\n",
       "      <td>11724</td>\n",
       "      <td>58415</td>\n",
       "    </tr>\n",
       "    <tr>\n",
       "      <th>24</th>\n",
       "      <td>Revelation</td>\n",
       "      <td>10113</td>\n",
       "      <td>47202</td>\n",
       "    </tr>\n",
       "    <tr>\n",
       "      <th>25</th>\n",
       "      <td>Romans</td>\n",
       "      <td>7249</td>\n",
       "      <td>35115</td>\n",
       "    </tr>\n",
       "    <tr>\n",
       "      <th>0</th>\n",
       "      <td>1 Corinthians</td>\n",
       "      <td>6963</td>\n",
       "      <td>33335</td>\n",
       "    </tr>\n",
       "    <tr>\n",
       "      <th>15</th>\n",
       "      <td>Hebrews</td>\n",
       "      <td>5037</td>\n",
       "      <td>26758</td>\n",
       "    </tr>\n",
       "    <tr>\n",
       "      <th>5</th>\n",
       "      <td>2 Corinthians</td>\n",
       "      <td>4560</td>\n",
       "      <td>22651</td>\n",
       "    </tr>\n",
       "    <tr>\n",
       "      <th>13</th>\n",
       "      <td>Ephesians</td>\n",
       "      <td>2476</td>\n",
       "      <td>12240</td>\n",
       "    </tr>\n",
       "    <tr>\n",
       "      <th>14</th>\n",
       "      <td>Galatians</td>\n",
       "      <td>2262</td>\n",
       "      <td>11243</td>\n",
       "    </tr>\n",
       "    <tr>\n",
       "      <th>1</th>\n",
       "      <td>1 John</td>\n",
       "      <td>2201</td>\n",
       "      <td>9699</td>\n",
       "    </tr>\n",
       "    <tr>\n",
       "      <th>2</th>\n",
       "      <td>1 Peter</td>\n",
       "      <td>1743</td>\n",
       "      <td>9300</td>\n",
       "    </tr>\n",
       "    <tr>\n",
       "      <th>4</th>\n",
       "      <td>1 Timothy</td>\n",
       "      <td>1657</td>\n",
       "      <td>9159</td>\n",
       "    </tr>\n",
       "    <tr>\n",
       "      <th>16</th>\n",
       "      <td>James</td>\n",
       "      <td>1802</td>\n",
       "      <td>9090</td>\n",
       "    </tr>\n",
       "    <tr>\n",
       "      <th>23</th>\n",
       "      <td>Philippians</td>\n",
       "      <td>1663</td>\n",
       "      <td>8151</td>\n",
       "    </tr>\n",
       "    <tr>\n",
       "      <th>12</th>\n",
       "      <td>Colossians</td>\n",
       "      <td>1646</td>\n",
       "      <td>8131</td>\n",
       "    </tr>\n",
       "    <tr>\n",
       "      <th>3</th>\n",
       "      <td>1 Thessalonians</td>\n",
       "      <td>1511</td>\n",
       "      <td>7559</td>\n",
       "    </tr>\n",
       "    <tr>\n",
       "      <th>9</th>\n",
       "      <td>2 Timothy</td>\n",
       "      <td>1282</td>\n",
       "      <td>6754</td>\n",
       "    </tr>\n",
       "    <tr>\n",
       "      <th>7</th>\n",
       "      <td>2 Peter</td>\n",
       "      <td>1128</td>\n",
       "      <td>6175</td>\n",
       "    </tr>\n",
       "    <tr>\n",
       "      <th>8</th>\n",
       "      <td>2 Thessalonians</td>\n",
       "      <td>853</td>\n",
       "      <td>4175</td>\n",
       "    </tr>\n",
       "    <tr>\n",
       "      <th>26</th>\n",
       "      <td>Titus</td>\n",
       "      <td>683</td>\n",
       "      <td>3860</td>\n",
       "    </tr>\n",
       "    <tr>\n",
       "      <th>18</th>\n",
       "      <td>Jude</td>\n",
       "      <td>463</td>\n",
       "      <td>2581</td>\n",
       "    </tr>\n",
       "    <tr>\n",
       "      <th>22</th>\n",
       "      <td>Philemon</td>\n",
       "      <td>353</td>\n",
       "      <td>1655</td>\n",
       "    </tr>\n",
       "    <tr>\n",
       "      <th>6</th>\n",
       "      <td>2 John</td>\n",
       "      <td>259</td>\n",
       "      <td>1191</td>\n",
       "    </tr>\n",
       "    <tr>\n",
       "      <th>10</th>\n",
       "      <td>3 John</td>\n",
       "      <td>221</td>\n",
       "      <td>1114</td>\n",
       "    </tr>\n",
       "  </tbody>\n",
       "</table>\n",
       "</div>"
      ],
      "text/plain": [
       "          book_name  word_count  char_count\n",
       "19             Luke       20076       98628\n",
       "11             Acts       18967       98088\n",
       "21          Matthew       18849       92322\n",
       "17             John       16003       72731\n",
       "20             Mark       11724       58415\n",
       "24       Revelation       10113       47202\n",
       "25           Romans        7249       35115\n",
       "0     1 Corinthians        6963       33335\n",
       "15          Hebrews        5037       26758\n",
       "5     2 Corinthians        4560       22651\n",
       "13        Ephesians        2476       12240\n",
       "14        Galatians        2262       11243\n",
       "1            1 John        2201        9699\n",
       "2           1 Peter        1743        9300\n",
       "4         1 Timothy        1657        9159\n",
       "16            James        1802        9090\n",
       "23      Philippians        1663        8151\n",
       "12       Colossians        1646        8131\n",
       "3   1 Thessalonians        1511        7559\n",
       "9         2 Timothy        1282        6754\n",
       "7           2 Peter        1128        6175\n",
       "8   2 Thessalonians         853        4175\n",
       "26            Titus         683        3860\n",
       "18             Jude         463        2581\n",
       "22         Philemon         353        1655\n",
       "6            2 John         259        1191\n",
       "10           3 John         221        1114"
      ]
     },
     "execution_count": 20,
     "metadata": {},
     "output_type": "execute_result"
    }
   ],
   "source": [
    "book_sums.sort_values(by='char_count', ascending=False)"
   ]
  },
  {
   "cell_type": "code",
   "execution_count": 21,
   "id": "f3bbd31e",
   "metadata": {},
   "outputs": [],
   "source": [
    "# Create the mapping dictionary\n",
    "author_mapping = {\n",
    "    'Matthew': 'Matthew',\n",
    "    'Mark': 'Mark',\n",
    "    'Luke': 'Luke',\n",
    "    'John': 'John',\n",
    "    'Acts': 'Luke',\n",
    "    'Romans': 'Paul',\n",
    "    '1 Corinthians': 'Paul',\n",
    "    '2 Corinthians': 'Paul',\n",
    "    'Galatians': 'Paul',\n",
    "    'Ephesians': 'Paul',\n",
    "    'Philippians': 'Paul',\n",
    "    'Colossians': 'Paul',\n",
    "    '1 Thessalonians': 'Paul',\n",
    "    '2 Thessalonians': 'Paul',\n",
    "    '1 Timothy': 'Paul',\n",
    "    '2 Timothy': 'Paul',\n",
    "    'Titus': 'Paul',\n",
    "    'Philemon': 'Paul',\n",
    "    'Hebrews': 'Unknown',\n",
    "    'James': 'James',\n",
    "    '1 Peter': 'Peter',\n",
    "    '2 Peter': 'Peter',\n",
    "    '1 John': 'John',\n",
    "    '2 John': 'John',\n",
    "    '3 John': 'John',\n",
    "    'Jude': 'Jude',\n",
    "    'Revelation': 'John'\n",
    "}\n"
   ]
  },
  {
   "cell_type": "code",
   "execution_count": 22,
   "id": "ebcd5552",
   "metadata": {},
   "outputs": [],
   "source": [
    "# Apply the mapping to create the 'author' column in book_sums DataFrame\n",
    "book_sums['author'] = book_sums['book_name'].map(author_mapping)"
   ]
  },
  {
   "cell_type": "code",
   "execution_count": 23,
   "id": "422bd9b4",
   "metadata": {},
   "outputs": [
    {
     "data": {
      "text/html": [
       "<div>\n",
       "<style scoped>\n",
       "    .dataframe tbody tr th:only-of-type {\n",
       "        vertical-align: middle;\n",
       "    }\n",
       "\n",
       "    .dataframe tbody tr th {\n",
       "        vertical-align: top;\n",
       "    }\n",
       "\n",
       "    .dataframe thead th {\n",
       "        text-align: right;\n",
       "    }\n",
       "</style>\n",
       "<table border=\"1\" class=\"dataframe\">\n",
       "  <thead>\n",
       "    <tr style=\"text-align: right;\">\n",
       "      <th></th>\n",
       "      <th>book_name</th>\n",
       "      <th>word_count</th>\n",
       "      <th>char_count</th>\n",
       "      <th>author</th>\n",
       "    </tr>\n",
       "  </thead>\n",
       "  <tbody>\n",
       "    <tr>\n",
       "      <th>0</th>\n",
       "      <td>1 Corinthians</td>\n",
       "      <td>6963</td>\n",
       "      <td>33335</td>\n",
       "      <td>Paul</td>\n",
       "    </tr>\n",
       "    <tr>\n",
       "      <th>1</th>\n",
       "      <td>1 John</td>\n",
       "      <td>2201</td>\n",
       "      <td>9699</td>\n",
       "      <td>John</td>\n",
       "    </tr>\n",
       "    <tr>\n",
       "      <th>2</th>\n",
       "      <td>1 Peter</td>\n",
       "      <td>1743</td>\n",
       "      <td>9300</td>\n",
       "      <td>Peter</td>\n",
       "    </tr>\n",
       "    <tr>\n",
       "      <th>3</th>\n",
       "      <td>1 Thessalonians</td>\n",
       "      <td>1511</td>\n",
       "      <td>7559</td>\n",
       "      <td>Paul</td>\n",
       "    </tr>\n",
       "    <tr>\n",
       "      <th>4</th>\n",
       "      <td>1 Timothy</td>\n",
       "      <td>1657</td>\n",
       "      <td>9159</td>\n",
       "      <td>Paul</td>\n",
       "    </tr>\n",
       "    <tr>\n",
       "      <th>5</th>\n",
       "      <td>2 Corinthians</td>\n",
       "      <td>4560</td>\n",
       "      <td>22651</td>\n",
       "      <td>Paul</td>\n",
       "    </tr>\n",
       "    <tr>\n",
       "      <th>6</th>\n",
       "      <td>2 John</td>\n",
       "      <td>259</td>\n",
       "      <td>1191</td>\n",
       "      <td>John</td>\n",
       "    </tr>\n",
       "    <tr>\n",
       "      <th>7</th>\n",
       "      <td>2 Peter</td>\n",
       "      <td>1128</td>\n",
       "      <td>6175</td>\n",
       "      <td>Peter</td>\n",
       "    </tr>\n",
       "    <tr>\n",
       "      <th>8</th>\n",
       "      <td>2 Thessalonians</td>\n",
       "      <td>853</td>\n",
       "      <td>4175</td>\n",
       "      <td>Paul</td>\n",
       "    </tr>\n",
       "    <tr>\n",
       "      <th>9</th>\n",
       "      <td>2 Timothy</td>\n",
       "      <td>1282</td>\n",
       "      <td>6754</td>\n",
       "      <td>Paul</td>\n",
       "    </tr>\n",
       "    <tr>\n",
       "      <th>10</th>\n",
       "      <td>3 John</td>\n",
       "      <td>221</td>\n",
       "      <td>1114</td>\n",
       "      <td>John</td>\n",
       "    </tr>\n",
       "    <tr>\n",
       "      <th>11</th>\n",
       "      <td>Acts</td>\n",
       "      <td>18967</td>\n",
       "      <td>98088</td>\n",
       "      <td>Luke</td>\n",
       "    </tr>\n",
       "    <tr>\n",
       "      <th>12</th>\n",
       "      <td>Colossians</td>\n",
       "      <td>1646</td>\n",
       "      <td>8131</td>\n",
       "      <td>Paul</td>\n",
       "    </tr>\n",
       "    <tr>\n",
       "      <th>13</th>\n",
       "      <td>Ephesians</td>\n",
       "      <td>2476</td>\n",
       "      <td>12240</td>\n",
       "      <td>Paul</td>\n",
       "    </tr>\n",
       "    <tr>\n",
       "      <th>14</th>\n",
       "      <td>Galatians</td>\n",
       "      <td>2262</td>\n",
       "      <td>11243</td>\n",
       "      <td>Paul</td>\n",
       "    </tr>\n",
       "    <tr>\n",
       "      <th>15</th>\n",
       "      <td>Hebrews</td>\n",
       "      <td>5037</td>\n",
       "      <td>26758</td>\n",
       "      <td>Unknown</td>\n",
       "    </tr>\n",
       "    <tr>\n",
       "      <th>16</th>\n",
       "      <td>James</td>\n",
       "      <td>1802</td>\n",
       "      <td>9090</td>\n",
       "      <td>James</td>\n",
       "    </tr>\n",
       "    <tr>\n",
       "      <th>17</th>\n",
       "      <td>John</td>\n",
       "      <td>16003</td>\n",
       "      <td>72731</td>\n",
       "      <td>John</td>\n",
       "    </tr>\n",
       "    <tr>\n",
       "      <th>18</th>\n",
       "      <td>Jude</td>\n",
       "      <td>463</td>\n",
       "      <td>2581</td>\n",
       "      <td>Jude</td>\n",
       "    </tr>\n",
       "    <tr>\n",
       "      <th>19</th>\n",
       "      <td>Luke</td>\n",
       "      <td>20076</td>\n",
       "      <td>98628</td>\n",
       "      <td>Luke</td>\n",
       "    </tr>\n",
       "    <tr>\n",
       "      <th>20</th>\n",
       "      <td>Mark</td>\n",
       "      <td>11724</td>\n",
       "      <td>58415</td>\n",
       "      <td>Mark</td>\n",
       "    </tr>\n",
       "    <tr>\n",
       "      <th>21</th>\n",
       "      <td>Matthew</td>\n",
       "      <td>18849</td>\n",
       "      <td>92322</td>\n",
       "      <td>Matthew</td>\n",
       "    </tr>\n",
       "    <tr>\n",
       "      <th>22</th>\n",
       "      <td>Philemon</td>\n",
       "      <td>353</td>\n",
       "      <td>1655</td>\n",
       "      <td>Paul</td>\n",
       "    </tr>\n",
       "    <tr>\n",
       "      <th>23</th>\n",
       "      <td>Philippians</td>\n",
       "      <td>1663</td>\n",
       "      <td>8151</td>\n",
       "      <td>Paul</td>\n",
       "    </tr>\n",
       "    <tr>\n",
       "      <th>24</th>\n",
       "      <td>Revelation</td>\n",
       "      <td>10113</td>\n",
       "      <td>47202</td>\n",
       "      <td>John</td>\n",
       "    </tr>\n",
       "    <tr>\n",
       "      <th>25</th>\n",
       "      <td>Romans</td>\n",
       "      <td>7249</td>\n",
       "      <td>35115</td>\n",
       "      <td>Paul</td>\n",
       "    </tr>\n",
       "    <tr>\n",
       "      <th>26</th>\n",
       "      <td>Titus</td>\n",
       "      <td>683</td>\n",
       "      <td>3860</td>\n",
       "      <td>Paul</td>\n",
       "    </tr>\n",
       "  </tbody>\n",
       "</table>\n",
       "</div>"
      ],
      "text/plain": [
       "          book_name  word_count  char_count   author\n",
       "0     1 Corinthians        6963       33335     Paul\n",
       "1            1 John        2201        9699     John\n",
       "2           1 Peter        1743        9300    Peter\n",
       "3   1 Thessalonians        1511        7559     Paul\n",
       "4         1 Timothy        1657        9159     Paul\n",
       "5     2 Corinthians        4560       22651     Paul\n",
       "6            2 John         259        1191     John\n",
       "7           2 Peter        1128        6175    Peter\n",
       "8   2 Thessalonians         853        4175     Paul\n",
       "9         2 Timothy        1282        6754     Paul\n",
       "10           3 John         221        1114     John\n",
       "11             Acts       18967       98088     Luke\n",
       "12       Colossians        1646        8131     Paul\n",
       "13        Ephesians        2476       12240     Paul\n",
       "14        Galatians        2262       11243     Paul\n",
       "15          Hebrews        5037       26758  Unknown\n",
       "16            James        1802        9090    James\n",
       "17             John       16003       72731     John\n",
       "18             Jude         463        2581     Jude\n",
       "19             Luke       20076       98628     Luke\n",
       "20             Mark       11724       58415     Mark\n",
       "21          Matthew       18849       92322  Matthew\n",
       "22         Philemon         353        1655     Paul\n",
       "23      Philippians        1663        8151     Paul\n",
       "24       Revelation       10113       47202     John\n",
       "25           Romans        7249       35115     Paul\n",
       "26            Titus         683        3860     Paul"
      ]
     },
     "execution_count": 23,
     "metadata": {},
     "output_type": "execute_result"
    }
   ],
   "source": [
    "book_sums"
   ]
  },
  {
   "cell_type": "code",
   "execution_count": 24,
   "id": "1f6a44cb",
   "metadata": {},
   "outputs": [],
   "source": [
    "# Create a dataframe grouped by author\n",
    "author_sums = book_sums.groupby('author')[['word_count', 'char_count']].sum().reset_index()"
   ]
  },
  {
   "cell_type": "code",
   "execution_count": 25,
   "id": "1feeb2ab",
   "metadata": {},
   "outputs": [
    {
     "data": {
      "text/html": [
       "<div>\n",
       "<style scoped>\n",
       "    .dataframe tbody tr th:only-of-type {\n",
       "        vertical-align: middle;\n",
       "    }\n",
       "\n",
       "    .dataframe tbody tr th {\n",
       "        vertical-align: top;\n",
       "    }\n",
       "\n",
       "    .dataframe thead th {\n",
       "        text-align: right;\n",
       "    }\n",
       "</style>\n",
       "<table border=\"1\" class=\"dataframe\">\n",
       "  <thead>\n",
       "    <tr style=\"text-align: right;\">\n",
       "      <th></th>\n",
       "      <th>author</th>\n",
       "      <th>word_count</th>\n",
       "      <th>char_count</th>\n",
       "    </tr>\n",
       "  </thead>\n",
       "  <tbody>\n",
       "    <tr>\n",
       "      <th>3</th>\n",
       "      <td>Luke</td>\n",
       "      <td>39043</td>\n",
       "      <td>196716</td>\n",
       "    </tr>\n",
       "    <tr>\n",
       "      <th>6</th>\n",
       "      <td>Paul</td>\n",
       "      <td>33158</td>\n",
       "      <td>164028</td>\n",
       "    </tr>\n",
       "    <tr>\n",
       "      <th>1</th>\n",
       "      <td>John</td>\n",
       "      <td>28797</td>\n",
       "      <td>131937</td>\n",
       "    </tr>\n",
       "    <tr>\n",
       "      <th>5</th>\n",
       "      <td>Matthew</td>\n",
       "      <td>18849</td>\n",
       "      <td>92322</td>\n",
       "    </tr>\n",
       "    <tr>\n",
       "      <th>4</th>\n",
       "      <td>Mark</td>\n",
       "      <td>11724</td>\n",
       "      <td>58415</td>\n",
       "    </tr>\n",
       "    <tr>\n",
       "      <th>8</th>\n",
       "      <td>Unknown</td>\n",
       "      <td>5037</td>\n",
       "      <td>26758</td>\n",
       "    </tr>\n",
       "    <tr>\n",
       "      <th>7</th>\n",
       "      <td>Peter</td>\n",
       "      <td>2871</td>\n",
       "      <td>15475</td>\n",
       "    </tr>\n",
       "    <tr>\n",
       "      <th>0</th>\n",
       "      <td>James</td>\n",
       "      <td>1802</td>\n",
       "      <td>9090</td>\n",
       "    </tr>\n",
       "    <tr>\n",
       "      <th>2</th>\n",
       "      <td>Jude</td>\n",
       "      <td>463</td>\n",
       "      <td>2581</td>\n",
       "    </tr>\n",
       "  </tbody>\n",
       "</table>\n",
       "</div>"
      ],
      "text/plain": [
       "    author  word_count  char_count\n",
       "3     Luke       39043      196716\n",
       "6     Paul       33158      164028\n",
       "1     John       28797      131937\n",
       "5  Matthew       18849       92322\n",
       "4     Mark       11724       58415\n",
       "8  Unknown        5037       26758\n",
       "7    Peter        2871       15475\n",
       "0    James        1802        9090\n",
       "2     Jude         463        2581"
      ]
     },
     "execution_count": 25,
     "metadata": {},
     "output_type": "execute_result"
    }
   ],
   "source": [
    "author_sums.sort_values(by='char_count', ascending=False)"
   ]
  },
  {
   "cell_type": "code",
   "execution_count": 65,
   "id": "b3f0aabf",
   "metadata": {},
   "outputs": [
    {
     "data": {
      "text/html": [
       "<div>\n",
       "<style scoped>\n",
       "    .dataframe tbody tr th:only-of-type {\n",
       "        vertical-align: middle;\n",
       "    }\n",
       "\n",
       "    .dataframe tbody tr th {\n",
       "        vertical-align: top;\n",
       "    }\n",
       "\n",
       "    .dataframe thead th {\n",
       "        text-align: right;\n",
       "    }\n",
       "</style>\n",
       "<table border=\"1\" class=\"dataframe\">\n",
       "  <thead>\n",
       "    <tr style=\"text-align: right;\">\n",
       "      <th></th>\n",
       "      <th>author</th>\n",
       "      <th>word_count</th>\n",
       "      <th>char_count</th>\n",
       "      <th>char_count_percent</th>\n",
       "    </tr>\n",
       "  </thead>\n",
       "  <tbody>\n",
       "    <tr>\n",
       "      <th>3</th>\n",
       "      <td>Luke</td>\n",
       "      <td>39043</td>\n",
       "      <td>196716</td>\n",
       "      <td>28.2</td>\n",
       "    </tr>\n",
       "    <tr>\n",
       "      <th>6</th>\n",
       "      <td>Paul</td>\n",
       "      <td>33158</td>\n",
       "      <td>164028</td>\n",
       "      <td>23.5</td>\n",
       "    </tr>\n",
       "    <tr>\n",
       "      <th>1</th>\n",
       "      <td>John</td>\n",
       "      <td>28797</td>\n",
       "      <td>131937</td>\n",
       "      <td>18.9</td>\n",
       "    </tr>\n",
       "    <tr>\n",
       "      <th>5</th>\n",
       "      <td>Matthew</td>\n",
       "      <td>18849</td>\n",
       "      <td>92322</td>\n",
       "      <td>13.2</td>\n",
       "    </tr>\n",
       "    <tr>\n",
       "      <th>4</th>\n",
       "      <td>Mark</td>\n",
       "      <td>11724</td>\n",
       "      <td>58415</td>\n",
       "      <td>8.4</td>\n",
       "    </tr>\n",
       "    <tr>\n",
       "      <th>8</th>\n",
       "      <td>Unknown</td>\n",
       "      <td>5037</td>\n",
       "      <td>26758</td>\n",
       "      <td>3.8</td>\n",
       "    </tr>\n",
       "    <tr>\n",
       "      <th>7</th>\n",
       "      <td>Peter</td>\n",
       "      <td>2871</td>\n",
       "      <td>15475</td>\n",
       "      <td>2.2</td>\n",
       "    </tr>\n",
       "    <tr>\n",
       "      <th>0</th>\n",
       "      <td>James</td>\n",
       "      <td>1802</td>\n",
       "      <td>9090</td>\n",
       "      <td>1.3</td>\n",
       "    </tr>\n",
       "    <tr>\n",
       "      <th>2</th>\n",
       "      <td>Jude</td>\n",
       "      <td>463</td>\n",
       "      <td>2581</td>\n",
       "      <td>0.4</td>\n",
       "    </tr>\n",
       "  </tbody>\n",
       "</table>\n",
       "</div>"
      ],
      "text/plain": [
       "    author  word_count  char_count  char_count_percent\n",
       "3     Luke       39043      196716                28.2\n",
       "6     Paul       33158      164028                23.5\n",
       "1     John       28797      131937                18.9\n",
       "5  Matthew       18849       92322                13.2\n",
       "4     Mark       11724       58415                 8.4\n",
       "8  Unknown        5037       26758                 3.8\n",
       "7    Peter        2871       15475                 2.2\n",
       "0    James        1802        9090                 1.3\n",
       "2     Jude         463        2581                 0.4"
      ]
     },
     "execution_count": 65,
     "metadata": {},
     "output_type": "execute_result"
    }
   ],
   "source": [
    "# from author_sums\n",
    "\n",
    "# Calculate the percentage of char_count\n",
    "author_sums[\"char_count_percent\"] = (author_sums[\"char_count\"] / author_sums[\"char_count\"].sum()) * 100\n",
    "\n",
    "# Round the percentage to one decimal place\n",
    "author_sums[\"char_count_percent\"] = author_sums[\"char_count_percent\"].round(1)\n",
    "\n",
    "# Sort the dataframe by char_count_percent in descending order\n",
    "author_sums_sorted = author_sums.sort_values(by=\"char_count_percent\", ascending=False)\n",
    "\n",
    "author_sums_sorted"
   ]
  },
  {
   "cell_type": "code",
   "execution_count": 28,
   "id": "26aa699d",
   "metadata": {},
   "outputs": [
    {
     "data": {
      "application/vnd.plotly.v1+json": {
       "config": {
        "plotlyServerURL": "https://plot.ly"
       },
       "data": [
        {
         "alignmentgroup": "True",
         "hovertemplate": "Character Count=%{x}<br>Author=%{y}<extra></extra>",
         "legendgroup": "",
         "marker": {
          "color": "#636efa",
          "pattern": {
           "shape": ""
          }
         },
         "name": "",
         "offsetgroup": "",
         "orientation": "h",
         "showlegend": false,
         "textposition": "auto",
         "type": "bar",
         "x": [
          2581,
          9090,
          15475,
          26758,
          58415,
          92322,
          131937,
          164028,
          196716
         ],
         "xaxis": "x",
         "y": [
          "Jude",
          "James",
          "Peter",
          "Unknown",
          "Mark",
          "Matthew",
          "John",
          "Paul",
          "Luke"
         ],
         "yaxis": "y"
        }
       ],
       "layout": {
        "barmode": "relative",
        "legend": {
         "tracegroupgap": 0
        },
        "template": {
         "data": {
          "bar": [
           {
            "error_x": {
             "color": "#2a3f5f"
            },
            "error_y": {
             "color": "#2a3f5f"
            },
            "marker": {
             "line": {
              "color": "#E5ECF6",
              "width": 0.5
             },
             "pattern": {
              "fillmode": "overlay",
              "size": 10,
              "solidity": 0.2
             }
            },
            "type": "bar"
           }
          ],
          "barpolar": [
           {
            "marker": {
             "line": {
              "color": "#E5ECF6",
              "width": 0.5
             },
             "pattern": {
              "fillmode": "overlay",
              "size": 10,
              "solidity": 0.2
             }
            },
            "type": "barpolar"
           }
          ],
          "carpet": [
           {
            "aaxis": {
             "endlinecolor": "#2a3f5f",
             "gridcolor": "white",
             "linecolor": "white",
             "minorgridcolor": "white",
             "startlinecolor": "#2a3f5f"
            },
            "baxis": {
             "endlinecolor": "#2a3f5f",
             "gridcolor": "white",
             "linecolor": "white",
             "minorgridcolor": "white",
             "startlinecolor": "#2a3f5f"
            },
            "type": "carpet"
           }
          ],
          "choropleth": [
           {
            "colorbar": {
             "outlinewidth": 0,
             "ticks": ""
            },
            "type": "choropleth"
           }
          ],
          "contour": [
           {
            "colorbar": {
             "outlinewidth": 0,
             "ticks": ""
            },
            "colorscale": [
             [
              0,
              "#0d0887"
             ],
             [
              0.1111111111111111,
              "#46039f"
             ],
             [
              0.2222222222222222,
              "#7201a8"
             ],
             [
              0.3333333333333333,
              "#9c179e"
             ],
             [
              0.4444444444444444,
              "#bd3786"
             ],
             [
              0.5555555555555556,
              "#d8576b"
             ],
             [
              0.6666666666666666,
              "#ed7953"
             ],
             [
              0.7777777777777778,
              "#fb9f3a"
             ],
             [
              0.8888888888888888,
              "#fdca26"
             ],
             [
              1,
              "#f0f921"
             ]
            ],
            "type": "contour"
           }
          ],
          "contourcarpet": [
           {
            "colorbar": {
             "outlinewidth": 0,
             "ticks": ""
            },
            "type": "contourcarpet"
           }
          ],
          "heatmap": [
           {
            "colorbar": {
             "outlinewidth": 0,
             "ticks": ""
            },
            "colorscale": [
             [
              0,
              "#0d0887"
             ],
             [
              0.1111111111111111,
              "#46039f"
             ],
             [
              0.2222222222222222,
              "#7201a8"
             ],
             [
              0.3333333333333333,
              "#9c179e"
             ],
             [
              0.4444444444444444,
              "#bd3786"
             ],
             [
              0.5555555555555556,
              "#d8576b"
             ],
             [
              0.6666666666666666,
              "#ed7953"
             ],
             [
              0.7777777777777778,
              "#fb9f3a"
             ],
             [
              0.8888888888888888,
              "#fdca26"
             ],
             [
              1,
              "#f0f921"
             ]
            ],
            "type": "heatmap"
           }
          ],
          "heatmapgl": [
           {
            "colorbar": {
             "outlinewidth": 0,
             "ticks": ""
            },
            "colorscale": [
             [
              0,
              "#0d0887"
             ],
             [
              0.1111111111111111,
              "#46039f"
             ],
             [
              0.2222222222222222,
              "#7201a8"
             ],
             [
              0.3333333333333333,
              "#9c179e"
             ],
             [
              0.4444444444444444,
              "#bd3786"
             ],
             [
              0.5555555555555556,
              "#d8576b"
             ],
             [
              0.6666666666666666,
              "#ed7953"
             ],
             [
              0.7777777777777778,
              "#fb9f3a"
             ],
             [
              0.8888888888888888,
              "#fdca26"
             ],
             [
              1,
              "#f0f921"
             ]
            ],
            "type": "heatmapgl"
           }
          ],
          "histogram": [
           {
            "marker": {
             "pattern": {
              "fillmode": "overlay",
              "size": 10,
              "solidity": 0.2
             }
            },
            "type": "histogram"
           }
          ],
          "histogram2d": [
           {
            "colorbar": {
             "outlinewidth": 0,
             "ticks": ""
            },
            "colorscale": [
             [
              0,
              "#0d0887"
             ],
             [
              0.1111111111111111,
              "#46039f"
             ],
             [
              0.2222222222222222,
              "#7201a8"
             ],
             [
              0.3333333333333333,
              "#9c179e"
             ],
             [
              0.4444444444444444,
              "#bd3786"
             ],
             [
              0.5555555555555556,
              "#d8576b"
             ],
             [
              0.6666666666666666,
              "#ed7953"
             ],
             [
              0.7777777777777778,
              "#fb9f3a"
             ],
             [
              0.8888888888888888,
              "#fdca26"
             ],
             [
              1,
              "#f0f921"
             ]
            ],
            "type": "histogram2d"
           }
          ],
          "histogram2dcontour": [
           {
            "colorbar": {
             "outlinewidth": 0,
             "ticks": ""
            },
            "colorscale": [
             [
              0,
              "#0d0887"
             ],
             [
              0.1111111111111111,
              "#46039f"
             ],
             [
              0.2222222222222222,
              "#7201a8"
             ],
             [
              0.3333333333333333,
              "#9c179e"
             ],
             [
              0.4444444444444444,
              "#bd3786"
             ],
             [
              0.5555555555555556,
              "#d8576b"
             ],
             [
              0.6666666666666666,
              "#ed7953"
             ],
             [
              0.7777777777777778,
              "#fb9f3a"
             ],
             [
              0.8888888888888888,
              "#fdca26"
             ],
             [
              1,
              "#f0f921"
             ]
            ],
            "type": "histogram2dcontour"
           }
          ],
          "mesh3d": [
           {
            "colorbar": {
             "outlinewidth": 0,
             "ticks": ""
            },
            "type": "mesh3d"
           }
          ],
          "parcoords": [
           {
            "line": {
             "colorbar": {
              "outlinewidth": 0,
              "ticks": ""
             }
            },
            "type": "parcoords"
           }
          ],
          "pie": [
           {
            "automargin": true,
            "type": "pie"
           }
          ],
          "scatter": [
           {
            "fillpattern": {
             "fillmode": "overlay",
             "size": 10,
             "solidity": 0.2
            },
            "type": "scatter"
           }
          ],
          "scatter3d": [
           {
            "line": {
             "colorbar": {
              "outlinewidth": 0,
              "ticks": ""
             }
            },
            "marker": {
             "colorbar": {
              "outlinewidth": 0,
              "ticks": ""
             }
            },
            "type": "scatter3d"
           }
          ],
          "scattercarpet": [
           {
            "marker": {
             "colorbar": {
              "outlinewidth": 0,
              "ticks": ""
             }
            },
            "type": "scattercarpet"
           }
          ],
          "scattergeo": [
           {
            "marker": {
             "colorbar": {
              "outlinewidth": 0,
              "ticks": ""
             }
            },
            "type": "scattergeo"
           }
          ],
          "scattergl": [
           {
            "marker": {
             "colorbar": {
              "outlinewidth": 0,
              "ticks": ""
             }
            },
            "type": "scattergl"
           }
          ],
          "scattermapbox": [
           {
            "marker": {
             "colorbar": {
              "outlinewidth": 0,
              "ticks": ""
             }
            },
            "type": "scattermapbox"
           }
          ],
          "scatterpolar": [
           {
            "marker": {
             "colorbar": {
              "outlinewidth": 0,
              "ticks": ""
             }
            },
            "type": "scatterpolar"
           }
          ],
          "scatterpolargl": [
           {
            "marker": {
             "colorbar": {
              "outlinewidth": 0,
              "ticks": ""
             }
            },
            "type": "scatterpolargl"
           }
          ],
          "scatterternary": [
           {
            "marker": {
             "colorbar": {
              "outlinewidth": 0,
              "ticks": ""
             }
            },
            "type": "scatterternary"
           }
          ],
          "surface": [
           {
            "colorbar": {
             "outlinewidth": 0,
             "ticks": ""
            },
            "colorscale": [
             [
              0,
              "#0d0887"
             ],
             [
              0.1111111111111111,
              "#46039f"
             ],
             [
              0.2222222222222222,
              "#7201a8"
             ],
             [
              0.3333333333333333,
              "#9c179e"
             ],
             [
              0.4444444444444444,
              "#bd3786"
             ],
             [
              0.5555555555555556,
              "#d8576b"
             ],
             [
              0.6666666666666666,
              "#ed7953"
             ],
             [
              0.7777777777777778,
              "#fb9f3a"
             ],
             [
              0.8888888888888888,
              "#fdca26"
             ],
             [
              1,
              "#f0f921"
             ]
            ],
            "type": "surface"
           }
          ],
          "table": [
           {
            "cells": {
             "fill": {
              "color": "#EBF0F8"
             },
             "line": {
              "color": "white"
             }
            },
            "header": {
             "fill": {
              "color": "#C8D4E3"
             },
             "line": {
              "color": "white"
             }
            },
            "type": "table"
           }
          ]
         },
         "layout": {
          "annotationdefaults": {
           "arrowcolor": "#2a3f5f",
           "arrowhead": 0,
           "arrowwidth": 1
          },
          "autotypenumbers": "strict",
          "coloraxis": {
           "colorbar": {
            "outlinewidth": 0,
            "ticks": ""
           }
          },
          "colorscale": {
           "diverging": [
            [
             0,
             "#8e0152"
            ],
            [
             0.1,
             "#c51b7d"
            ],
            [
             0.2,
             "#de77ae"
            ],
            [
             0.3,
             "#f1b6da"
            ],
            [
             0.4,
             "#fde0ef"
            ],
            [
             0.5,
             "#f7f7f7"
            ],
            [
             0.6,
             "#e6f5d0"
            ],
            [
             0.7,
             "#b8e186"
            ],
            [
             0.8,
             "#7fbc41"
            ],
            [
             0.9,
             "#4d9221"
            ],
            [
             1,
             "#276419"
            ]
           ],
           "sequential": [
            [
             0,
             "#0d0887"
            ],
            [
             0.1111111111111111,
             "#46039f"
            ],
            [
             0.2222222222222222,
             "#7201a8"
            ],
            [
             0.3333333333333333,
             "#9c179e"
            ],
            [
             0.4444444444444444,
             "#bd3786"
            ],
            [
             0.5555555555555556,
             "#d8576b"
            ],
            [
             0.6666666666666666,
             "#ed7953"
            ],
            [
             0.7777777777777778,
             "#fb9f3a"
            ],
            [
             0.8888888888888888,
             "#fdca26"
            ],
            [
             1,
             "#f0f921"
            ]
           ],
           "sequentialminus": [
            [
             0,
             "#0d0887"
            ],
            [
             0.1111111111111111,
             "#46039f"
            ],
            [
             0.2222222222222222,
             "#7201a8"
            ],
            [
             0.3333333333333333,
             "#9c179e"
            ],
            [
             0.4444444444444444,
             "#bd3786"
            ],
            [
             0.5555555555555556,
             "#d8576b"
            ],
            [
             0.6666666666666666,
             "#ed7953"
            ],
            [
             0.7777777777777778,
             "#fb9f3a"
            ],
            [
             0.8888888888888888,
             "#fdca26"
            ],
            [
             1,
             "#f0f921"
            ]
           ]
          },
          "colorway": [
           "#636efa",
           "#EF553B",
           "#00cc96",
           "#ab63fa",
           "#FFA15A",
           "#19d3f3",
           "#FF6692",
           "#B6E880",
           "#FF97FF",
           "#FECB52"
          ],
          "font": {
           "color": "#2a3f5f"
          },
          "geo": {
           "bgcolor": "white",
           "lakecolor": "white",
           "landcolor": "#E5ECF6",
           "showlakes": true,
           "showland": true,
           "subunitcolor": "white"
          },
          "hoverlabel": {
           "align": "left"
          },
          "hovermode": "closest",
          "mapbox": {
           "style": "light"
          },
          "paper_bgcolor": "white",
          "plot_bgcolor": "#E5ECF6",
          "polar": {
           "angularaxis": {
            "gridcolor": "white",
            "linecolor": "white",
            "ticks": ""
           },
           "bgcolor": "#E5ECF6",
           "radialaxis": {
            "gridcolor": "white",
            "linecolor": "white",
            "ticks": ""
           }
          },
          "scene": {
           "xaxis": {
            "backgroundcolor": "#E5ECF6",
            "gridcolor": "white",
            "gridwidth": 2,
            "linecolor": "white",
            "showbackground": true,
            "ticks": "",
            "zerolinecolor": "white"
           },
           "yaxis": {
            "backgroundcolor": "#E5ECF6",
            "gridcolor": "white",
            "gridwidth": 2,
            "linecolor": "white",
            "showbackground": true,
            "ticks": "",
            "zerolinecolor": "white"
           },
           "zaxis": {
            "backgroundcolor": "#E5ECF6",
            "gridcolor": "white",
            "gridwidth": 2,
            "linecolor": "white",
            "showbackground": true,
            "ticks": "",
            "zerolinecolor": "white"
           }
          },
          "shapedefaults": {
           "line": {
            "color": "#2a3f5f"
           }
          },
          "ternary": {
           "aaxis": {
            "gridcolor": "white",
            "linecolor": "white",
            "ticks": ""
           },
           "baxis": {
            "gridcolor": "white",
            "linecolor": "white",
            "ticks": ""
           },
           "bgcolor": "#E5ECF6",
           "caxis": {
            "gridcolor": "white",
            "linecolor": "white",
            "ticks": ""
           }
          },
          "title": {
           "x": 0.05
          },
          "xaxis": {
           "automargin": true,
           "gridcolor": "white",
           "linecolor": "white",
           "ticks": "",
           "title": {
            "standoff": 15
           },
           "zerolinecolor": "white",
           "zerolinewidth": 2
          },
          "yaxis": {
           "automargin": true,
           "gridcolor": "white",
           "linecolor": "white",
           "ticks": "",
           "title": {
            "standoff": 15
           },
           "zerolinecolor": "white",
           "zerolinewidth": 2
          }
         }
        },
        "title": {
         "text": "Total Character Counts by Author (Sorted)"
        },
        "xaxis": {
         "anchor": "y",
         "domain": [
          0,
          1
         ],
         "title": {
          "text": "Character Count"
         }
        },
        "yaxis": {
         "anchor": "x",
         "domain": [
          0,
          1
         ],
         "title": {
          "text": "Author"
         }
        }
       }
      }
     },
     "metadata": {},
     "output_type": "display_data"
    }
   ],
   "source": [
    "# Sort the data by 'char_count' in descending order\n",
    "author_sums_sorted = author_sums.sort_values(by='char_count', ascending=True)\n",
    "\n",
    "fig = px.bar(\n",
    "    author_sums_sorted,\n",
    "    x='char_count',\n",
    "    y='author',\n",
    "    orientation='h',\n",
    "    title='Total Character Counts by Author (Sorted)',\n",
    "    labels={'char_count': 'Character Count', 'author': 'Author'}\n",
    ")\n",
    "fig.show()\n"
   ]
  },
  {
   "cell_type": "code",
   "execution_count": 29,
   "id": "1aed7776",
   "metadata": {},
   "outputs": [],
   "source": [
    "genre_mapping = {\n",
    "    'Matthew': 'History',\n",
    "    'Mark': 'History',\n",
    "    'Luke': 'History',\n",
    "    'John': 'History',\n",
    "    'Acts': 'History',\n",
    "    'Romans': 'Letters',\n",
    "    '1 Corinthians': 'Letters',\n",
    "    '2 Corinthians': 'Letters',\n",
    "    'Galatians': 'Letters',\n",
    "    'Ephesians': 'Letters',\n",
    "    'Philippians': 'Letters',\n",
    "    'Colossians': 'Letters',\n",
    "    '1 Thessalonians': 'Letters',\n",
    "    '2 Thessalonians': 'Letters',\n",
    "    '1 Timothy': 'Letters',\n",
    "    '2 Timothy': 'Letters',\n",
    "    'Titus': 'Letters',\n",
    "    'Philemon': 'Letters',\n",
    "    'Hebrews': 'Letters',\n",
    "    'James': 'Letters',\n",
    "    '1 Peter': 'Letters',\n",
    "    '2 Peter': 'Letters',\n",
    "    '1 John': 'Letters',\n",
    "    '2 John': 'Letters',\n",
    "    '3 John': 'Letters',\n",
    "    'Jude': 'Letters',\n",
    "    'Revelation': 'Prophecy'\n",
    "}\n"
   ]
  },
  {
   "cell_type": "code",
   "execution_count": 30,
   "id": "e51373af",
   "metadata": {},
   "outputs": [],
   "source": [
    "# Apply the mapping to create the 'author' column in book_sums DataFrame\n",
    "book_sums['genre'] = book_sums['book_name'].map(genre_mapping)"
   ]
  },
  {
   "cell_type": "code",
   "execution_count": 31,
   "id": "dd4c557a",
   "metadata": {},
   "outputs": [
    {
     "data": {
      "text/html": [
       "<div>\n",
       "<style scoped>\n",
       "    .dataframe tbody tr th:only-of-type {\n",
       "        vertical-align: middle;\n",
       "    }\n",
       "\n",
       "    .dataframe tbody tr th {\n",
       "        vertical-align: top;\n",
       "    }\n",
       "\n",
       "    .dataframe thead th {\n",
       "        text-align: right;\n",
       "    }\n",
       "</style>\n",
       "<table border=\"1\" class=\"dataframe\">\n",
       "  <thead>\n",
       "    <tr style=\"text-align: right;\">\n",
       "      <th></th>\n",
       "      <th>book_name</th>\n",
       "      <th>word_count</th>\n",
       "      <th>char_count</th>\n",
       "      <th>author</th>\n",
       "      <th>genre</th>\n",
       "    </tr>\n",
       "  </thead>\n",
       "  <tbody>\n",
       "    <tr>\n",
       "      <th>0</th>\n",
       "      <td>1 Corinthians</td>\n",
       "      <td>6963</td>\n",
       "      <td>33335</td>\n",
       "      <td>Paul</td>\n",
       "      <td>Letters</td>\n",
       "    </tr>\n",
       "    <tr>\n",
       "      <th>1</th>\n",
       "      <td>1 John</td>\n",
       "      <td>2201</td>\n",
       "      <td>9699</td>\n",
       "      <td>John</td>\n",
       "      <td>Letters</td>\n",
       "    </tr>\n",
       "    <tr>\n",
       "      <th>2</th>\n",
       "      <td>1 Peter</td>\n",
       "      <td>1743</td>\n",
       "      <td>9300</td>\n",
       "      <td>Peter</td>\n",
       "      <td>Letters</td>\n",
       "    </tr>\n",
       "    <tr>\n",
       "      <th>3</th>\n",
       "      <td>1 Thessalonians</td>\n",
       "      <td>1511</td>\n",
       "      <td>7559</td>\n",
       "      <td>Paul</td>\n",
       "      <td>Letters</td>\n",
       "    </tr>\n",
       "    <tr>\n",
       "      <th>4</th>\n",
       "      <td>1 Timothy</td>\n",
       "      <td>1657</td>\n",
       "      <td>9159</td>\n",
       "      <td>Paul</td>\n",
       "      <td>Letters</td>\n",
       "    </tr>\n",
       "    <tr>\n",
       "      <th>5</th>\n",
       "      <td>2 Corinthians</td>\n",
       "      <td>4560</td>\n",
       "      <td>22651</td>\n",
       "      <td>Paul</td>\n",
       "      <td>Letters</td>\n",
       "    </tr>\n",
       "    <tr>\n",
       "      <th>6</th>\n",
       "      <td>2 John</td>\n",
       "      <td>259</td>\n",
       "      <td>1191</td>\n",
       "      <td>John</td>\n",
       "      <td>Letters</td>\n",
       "    </tr>\n",
       "    <tr>\n",
       "      <th>7</th>\n",
       "      <td>2 Peter</td>\n",
       "      <td>1128</td>\n",
       "      <td>6175</td>\n",
       "      <td>Peter</td>\n",
       "      <td>Letters</td>\n",
       "    </tr>\n",
       "    <tr>\n",
       "      <th>8</th>\n",
       "      <td>2 Thessalonians</td>\n",
       "      <td>853</td>\n",
       "      <td>4175</td>\n",
       "      <td>Paul</td>\n",
       "      <td>Letters</td>\n",
       "    </tr>\n",
       "    <tr>\n",
       "      <th>9</th>\n",
       "      <td>2 Timothy</td>\n",
       "      <td>1282</td>\n",
       "      <td>6754</td>\n",
       "      <td>Paul</td>\n",
       "      <td>Letters</td>\n",
       "    </tr>\n",
       "    <tr>\n",
       "      <th>10</th>\n",
       "      <td>3 John</td>\n",
       "      <td>221</td>\n",
       "      <td>1114</td>\n",
       "      <td>John</td>\n",
       "      <td>Letters</td>\n",
       "    </tr>\n",
       "    <tr>\n",
       "      <th>11</th>\n",
       "      <td>Acts</td>\n",
       "      <td>18967</td>\n",
       "      <td>98088</td>\n",
       "      <td>Luke</td>\n",
       "      <td>History</td>\n",
       "    </tr>\n",
       "    <tr>\n",
       "      <th>12</th>\n",
       "      <td>Colossians</td>\n",
       "      <td>1646</td>\n",
       "      <td>8131</td>\n",
       "      <td>Paul</td>\n",
       "      <td>Letters</td>\n",
       "    </tr>\n",
       "    <tr>\n",
       "      <th>13</th>\n",
       "      <td>Ephesians</td>\n",
       "      <td>2476</td>\n",
       "      <td>12240</td>\n",
       "      <td>Paul</td>\n",
       "      <td>Letters</td>\n",
       "    </tr>\n",
       "    <tr>\n",
       "      <th>14</th>\n",
       "      <td>Galatians</td>\n",
       "      <td>2262</td>\n",
       "      <td>11243</td>\n",
       "      <td>Paul</td>\n",
       "      <td>Letters</td>\n",
       "    </tr>\n",
       "    <tr>\n",
       "      <th>15</th>\n",
       "      <td>Hebrews</td>\n",
       "      <td>5037</td>\n",
       "      <td>26758</td>\n",
       "      <td>Unknown</td>\n",
       "      <td>Letters</td>\n",
       "    </tr>\n",
       "    <tr>\n",
       "      <th>16</th>\n",
       "      <td>James</td>\n",
       "      <td>1802</td>\n",
       "      <td>9090</td>\n",
       "      <td>James</td>\n",
       "      <td>Letters</td>\n",
       "    </tr>\n",
       "    <tr>\n",
       "      <th>17</th>\n",
       "      <td>John</td>\n",
       "      <td>16003</td>\n",
       "      <td>72731</td>\n",
       "      <td>John</td>\n",
       "      <td>History</td>\n",
       "    </tr>\n",
       "    <tr>\n",
       "      <th>18</th>\n",
       "      <td>Jude</td>\n",
       "      <td>463</td>\n",
       "      <td>2581</td>\n",
       "      <td>Jude</td>\n",
       "      <td>Letters</td>\n",
       "    </tr>\n",
       "    <tr>\n",
       "      <th>19</th>\n",
       "      <td>Luke</td>\n",
       "      <td>20076</td>\n",
       "      <td>98628</td>\n",
       "      <td>Luke</td>\n",
       "      <td>History</td>\n",
       "    </tr>\n",
       "    <tr>\n",
       "      <th>20</th>\n",
       "      <td>Mark</td>\n",
       "      <td>11724</td>\n",
       "      <td>58415</td>\n",
       "      <td>Mark</td>\n",
       "      <td>History</td>\n",
       "    </tr>\n",
       "    <tr>\n",
       "      <th>21</th>\n",
       "      <td>Matthew</td>\n",
       "      <td>18849</td>\n",
       "      <td>92322</td>\n",
       "      <td>Matthew</td>\n",
       "      <td>History</td>\n",
       "    </tr>\n",
       "    <tr>\n",
       "      <th>22</th>\n",
       "      <td>Philemon</td>\n",
       "      <td>353</td>\n",
       "      <td>1655</td>\n",
       "      <td>Paul</td>\n",
       "      <td>Letters</td>\n",
       "    </tr>\n",
       "    <tr>\n",
       "      <th>23</th>\n",
       "      <td>Philippians</td>\n",
       "      <td>1663</td>\n",
       "      <td>8151</td>\n",
       "      <td>Paul</td>\n",
       "      <td>Letters</td>\n",
       "    </tr>\n",
       "    <tr>\n",
       "      <th>24</th>\n",
       "      <td>Revelation</td>\n",
       "      <td>10113</td>\n",
       "      <td>47202</td>\n",
       "      <td>John</td>\n",
       "      <td>Prophecy</td>\n",
       "    </tr>\n",
       "    <tr>\n",
       "      <th>25</th>\n",
       "      <td>Romans</td>\n",
       "      <td>7249</td>\n",
       "      <td>35115</td>\n",
       "      <td>Paul</td>\n",
       "      <td>Letters</td>\n",
       "    </tr>\n",
       "    <tr>\n",
       "      <th>26</th>\n",
       "      <td>Titus</td>\n",
       "      <td>683</td>\n",
       "      <td>3860</td>\n",
       "      <td>Paul</td>\n",
       "      <td>Letters</td>\n",
       "    </tr>\n",
       "  </tbody>\n",
       "</table>\n",
       "</div>"
      ],
      "text/plain": [
       "          book_name  word_count  char_count   author     genre\n",
       "0     1 Corinthians        6963       33335     Paul   Letters\n",
       "1            1 John        2201        9699     John   Letters\n",
       "2           1 Peter        1743        9300    Peter   Letters\n",
       "3   1 Thessalonians        1511        7559     Paul   Letters\n",
       "4         1 Timothy        1657        9159     Paul   Letters\n",
       "5     2 Corinthians        4560       22651     Paul   Letters\n",
       "6            2 John         259        1191     John   Letters\n",
       "7           2 Peter        1128        6175    Peter   Letters\n",
       "8   2 Thessalonians         853        4175     Paul   Letters\n",
       "9         2 Timothy        1282        6754     Paul   Letters\n",
       "10           3 John         221        1114     John   Letters\n",
       "11             Acts       18967       98088     Luke   History\n",
       "12       Colossians        1646        8131     Paul   Letters\n",
       "13        Ephesians        2476       12240     Paul   Letters\n",
       "14        Galatians        2262       11243     Paul   Letters\n",
       "15          Hebrews        5037       26758  Unknown   Letters\n",
       "16            James        1802        9090    James   Letters\n",
       "17             John       16003       72731     John   History\n",
       "18             Jude         463        2581     Jude   Letters\n",
       "19             Luke       20076       98628     Luke   History\n",
       "20             Mark       11724       58415     Mark   History\n",
       "21          Matthew       18849       92322  Matthew   History\n",
       "22         Philemon         353        1655     Paul   Letters\n",
       "23      Philippians        1663        8151     Paul   Letters\n",
       "24       Revelation       10113       47202     John  Prophecy\n",
       "25           Romans        7249       35115     Paul   Letters\n",
       "26            Titus         683        3860     Paul   Letters"
      ]
     },
     "execution_count": 31,
     "metadata": {},
     "output_type": "execute_result"
    }
   ],
   "source": [
    "book_sums"
   ]
  },
  {
   "cell_type": "code",
   "execution_count": 36,
   "id": "5126a1a1",
   "metadata": {},
   "outputs": [
    {
     "data": {
      "application/vnd.plotly.v1+json": {
       "config": {
        "plotlyServerURL": "https://plot.ly"
       },
       "data": [
        {
         "alignmentgroup": "True",
         "customdata": [
          [
           "Luke",
           "Luke",
           "History",
           20076,
           98628
          ],
          [
           "Acts",
           "Luke",
           "History",
           18967,
           98088
          ],
          [
           "Matthew",
           "Matthew",
           "History",
           18849,
           92322
          ],
          [
           "John",
           "John",
           "History",
           16003,
           72731
          ],
          [
           "Mark",
           "Mark",
           "History",
           11724,
           58415
          ]
         ],
         "hovertemplate": "<b>%{customdata[2]}</b><br>Book: %{customdata[0]}<br>Author: %{customdata[1]}<br>Word Count: %{customdata[3]:,}<br>Character Count: %{customdata[4]:,}<extra></extra>",
         "legendgroup": "History",
         "marker": {
          "color": "#a02013",
          "pattern": {
           "shape": ""
          }
         },
         "name": "History",
         "offsetgroup": "History",
         "orientation": "h",
         "showlegend": true,
         "textposition": "auto",
         "type": "bar",
         "x": [
          98628,
          98088,
          92322,
          72731,
          58415
         ],
         "xaxis": "x",
         "y": [
          "Luke",
          "Luke",
          "Matthew",
          "John",
          "Mark"
         ],
         "yaxis": "y"
        },
        {
         "alignmentgroup": "True",
         "customdata": [
          [
           "Revelation",
           "John",
           "Prophecy",
           10113,
           47202
          ]
         ],
         "hovertemplate": "<b>%{customdata[2]}</b><br>Book: %{customdata[0]}<br>Author: %{customdata[1]}<br>Word Count: %{customdata[3]:,}<br>Character Count: %{customdata[4]:,}<extra></extra>",
         "legendgroup": "Prophecy",
         "marker": {
          "color": "#044e7f",
          "pattern": {
           "shape": ""
          }
         },
         "name": "Prophecy",
         "offsetgroup": "Prophecy",
         "orientation": "h",
         "showlegend": true,
         "textposition": "auto",
         "type": "bar",
         "x": [
          47202
         ],
         "xaxis": "x",
         "y": [
          "John"
         ],
         "yaxis": "y"
        },
        {
         "alignmentgroup": "True",
         "customdata": [
          [
           "Romans",
           "Paul",
           "Letters",
           7249,
           35115
          ],
          [
           "1 Corinthians",
           "Paul",
           "Letters",
           6963,
           33335
          ],
          [
           "Hebrews",
           "Unknown",
           "Letters",
           5037,
           26758
          ],
          [
           "2 Corinthians",
           "Paul",
           "Letters",
           4560,
           22651
          ],
          [
           "Ephesians",
           "Paul",
           "Letters",
           2476,
           12240
          ],
          [
           "Galatians",
           "Paul",
           "Letters",
           2262,
           11243
          ],
          [
           "1 John",
           "John",
           "Letters",
           2201,
           9699
          ],
          [
           "1 Peter",
           "Peter",
           "Letters",
           1743,
           9300
          ],
          [
           "1 Timothy",
           "Paul",
           "Letters",
           1657,
           9159
          ],
          [
           "James",
           "James",
           "Letters",
           1802,
           9090
          ],
          [
           "Philippians",
           "Paul",
           "Letters",
           1663,
           8151
          ],
          [
           "Colossians",
           "Paul",
           "Letters",
           1646,
           8131
          ],
          [
           "1 Thessalonians",
           "Paul",
           "Letters",
           1511,
           7559
          ],
          [
           "2 Timothy",
           "Paul",
           "Letters",
           1282,
           6754
          ],
          [
           "2 Peter",
           "Peter",
           "Letters",
           1128,
           6175
          ],
          [
           "2 Thessalonians",
           "Paul",
           "Letters",
           853,
           4175
          ],
          [
           "Titus",
           "Paul",
           "Letters",
           683,
           3860
          ],
          [
           "Jude",
           "Jude",
           "Letters",
           463,
           2581
          ],
          [
           "Philemon",
           "Paul",
           "Letters",
           353,
           1655
          ],
          [
           "2 John",
           "John",
           "Letters",
           259,
           1191
          ],
          [
           "3 John",
           "John",
           "Letters",
           221,
           1114
          ]
         ],
         "hovertemplate": "<b>%{customdata[2]}</b><br>Book: %{customdata[0]}<br>Author: %{customdata[1]}<br>Word Count: %{customdata[3]:,}<br>Character Count: %{customdata[4]:,}<extra></extra>",
         "legendgroup": "Letters",
         "marker": {
          "color": "#42664a",
          "pattern": {
           "shape": ""
          }
         },
         "name": "Letters",
         "offsetgroup": "Letters",
         "orientation": "h",
         "showlegend": true,
         "textposition": "auto",
         "type": "bar",
         "x": [
          35115,
          33335,
          26758,
          22651,
          12240,
          11243,
          9699,
          9300,
          9159,
          9090,
          8151,
          8131,
          7559,
          6754,
          6175,
          4175,
          3860,
          2581,
          1655,
          1191,
          1114
         ],
         "xaxis": "x",
         "y": [
          "Paul",
          "Paul",
          "Unknown",
          "Paul",
          "Paul",
          "Paul",
          "John",
          "Peter",
          "Paul",
          "James",
          "Paul",
          "Paul",
          "Paul",
          "Paul",
          "Peter",
          "Paul",
          "Paul",
          "Jude",
          "Paul",
          "John",
          "John"
         ],
         "yaxis": "y"
        }
       ],
       "layout": {
        "barmode": "relative",
        "legend": {
         "title": {
          "text": "Genre"
         },
         "tracegroupgap": 0
        },
        "template": {
         "data": {
          "bar": [
           {
            "error_x": {
             "color": "#2a3f5f"
            },
            "error_y": {
             "color": "#2a3f5f"
            },
            "marker": {
             "line": {
              "color": "#E5ECF6",
              "width": 0.5
             },
             "pattern": {
              "fillmode": "overlay",
              "size": 10,
              "solidity": 0.2
             }
            },
            "type": "bar"
           }
          ],
          "barpolar": [
           {
            "marker": {
             "line": {
              "color": "#E5ECF6",
              "width": 0.5
             },
             "pattern": {
              "fillmode": "overlay",
              "size": 10,
              "solidity": 0.2
             }
            },
            "type": "barpolar"
           }
          ],
          "carpet": [
           {
            "aaxis": {
             "endlinecolor": "#2a3f5f",
             "gridcolor": "white",
             "linecolor": "white",
             "minorgridcolor": "white",
             "startlinecolor": "#2a3f5f"
            },
            "baxis": {
             "endlinecolor": "#2a3f5f",
             "gridcolor": "white",
             "linecolor": "white",
             "minorgridcolor": "white",
             "startlinecolor": "#2a3f5f"
            },
            "type": "carpet"
           }
          ],
          "choropleth": [
           {
            "colorbar": {
             "outlinewidth": 0,
             "ticks": ""
            },
            "type": "choropleth"
           }
          ],
          "contour": [
           {
            "colorbar": {
             "outlinewidth": 0,
             "ticks": ""
            },
            "colorscale": [
             [
              0,
              "#0d0887"
             ],
             [
              0.1111111111111111,
              "#46039f"
             ],
             [
              0.2222222222222222,
              "#7201a8"
             ],
             [
              0.3333333333333333,
              "#9c179e"
             ],
             [
              0.4444444444444444,
              "#bd3786"
             ],
             [
              0.5555555555555556,
              "#d8576b"
             ],
             [
              0.6666666666666666,
              "#ed7953"
             ],
             [
              0.7777777777777778,
              "#fb9f3a"
             ],
             [
              0.8888888888888888,
              "#fdca26"
             ],
             [
              1,
              "#f0f921"
             ]
            ],
            "type": "contour"
           }
          ],
          "contourcarpet": [
           {
            "colorbar": {
             "outlinewidth": 0,
             "ticks": ""
            },
            "type": "contourcarpet"
           }
          ],
          "heatmap": [
           {
            "colorbar": {
             "outlinewidth": 0,
             "ticks": ""
            },
            "colorscale": [
             [
              0,
              "#0d0887"
             ],
             [
              0.1111111111111111,
              "#46039f"
             ],
             [
              0.2222222222222222,
              "#7201a8"
             ],
             [
              0.3333333333333333,
              "#9c179e"
             ],
             [
              0.4444444444444444,
              "#bd3786"
             ],
             [
              0.5555555555555556,
              "#d8576b"
             ],
             [
              0.6666666666666666,
              "#ed7953"
             ],
             [
              0.7777777777777778,
              "#fb9f3a"
             ],
             [
              0.8888888888888888,
              "#fdca26"
             ],
             [
              1,
              "#f0f921"
             ]
            ],
            "type": "heatmap"
           }
          ],
          "heatmapgl": [
           {
            "colorbar": {
             "outlinewidth": 0,
             "ticks": ""
            },
            "colorscale": [
             [
              0,
              "#0d0887"
             ],
             [
              0.1111111111111111,
              "#46039f"
             ],
             [
              0.2222222222222222,
              "#7201a8"
             ],
             [
              0.3333333333333333,
              "#9c179e"
             ],
             [
              0.4444444444444444,
              "#bd3786"
             ],
             [
              0.5555555555555556,
              "#d8576b"
             ],
             [
              0.6666666666666666,
              "#ed7953"
             ],
             [
              0.7777777777777778,
              "#fb9f3a"
             ],
             [
              0.8888888888888888,
              "#fdca26"
             ],
             [
              1,
              "#f0f921"
             ]
            ],
            "type": "heatmapgl"
           }
          ],
          "histogram": [
           {
            "marker": {
             "pattern": {
              "fillmode": "overlay",
              "size": 10,
              "solidity": 0.2
             }
            },
            "type": "histogram"
           }
          ],
          "histogram2d": [
           {
            "colorbar": {
             "outlinewidth": 0,
             "ticks": ""
            },
            "colorscale": [
             [
              0,
              "#0d0887"
             ],
             [
              0.1111111111111111,
              "#46039f"
             ],
             [
              0.2222222222222222,
              "#7201a8"
             ],
             [
              0.3333333333333333,
              "#9c179e"
             ],
             [
              0.4444444444444444,
              "#bd3786"
             ],
             [
              0.5555555555555556,
              "#d8576b"
             ],
             [
              0.6666666666666666,
              "#ed7953"
             ],
             [
              0.7777777777777778,
              "#fb9f3a"
             ],
             [
              0.8888888888888888,
              "#fdca26"
             ],
             [
              1,
              "#f0f921"
             ]
            ],
            "type": "histogram2d"
           }
          ],
          "histogram2dcontour": [
           {
            "colorbar": {
             "outlinewidth": 0,
             "ticks": ""
            },
            "colorscale": [
             [
              0,
              "#0d0887"
             ],
             [
              0.1111111111111111,
              "#46039f"
             ],
             [
              0.2222222222222222,
              "#7201a8"
             ],
             [
              0.3333333333333333,
              "#9c179e"
             ],
             [
              0.4444444444444444,
              "#bd3786"
             ],
             [
              0.5555555555555556,
              "#d8576b"
             ],
             [
              0.6666666666666666,
              "#ed7953"
             ],
             [
              0.7777777777777778,
              "#fb9f3a"
             ],
             [
              0.8888888888888888,
              "#fdca26"
             ],
             [
              1,
              "#f0f921"
             ]
            ],
            "type": "histogram2dcontour"
           }
          ],
          "mesh3d": [
           {
            "colorbar": {
             "outlinewidth": 0,
             "ticks": ""
            },
            "type": "mesh3d"
           }
          ],
          "parcoords": [
           {
            "line": {
             "colorbar": {
              "outlinewidth": 0,
              "ticks": ""
             }
            },
            "type": "parcoords"
           }
          ],
          "pie": [
           {
            "automargin": true,
            "type": "pie"
           }
          ],
          "scatter": [
           {
            "fillpattern": {
             "fillmode": "overlay",
             "size": 10,
             "solidity": 0.2
            },
            "type": "scatter"
           }
          ],
          "scatter3d": [
           {
            "line": {
             "colorbar": {
              "outlinewidth": 0,
              "ticks": ""
             }
            },
            "marker": {
             "colorbar": {
              "outlinewidth": 0,
              "ticks": ""
             }
            },
            "type": "scatter3d"
           }
          ],
          "scattercarpet": [
           {
            "marker": {
             "colorbar": {
              "outlinewidth": 0,
              "ticks": ""
             }
            },
            "type": "scattercarpet"
           }
          ],
          "scattergeo": [
           {
            "marker": {
             "colorbar": {
              "outlinewidth": 0,
              "ticks": ""
             }
            },
            "type": "scattergeo"
           }
          ],
          "scattergl": [
           {
            "marker": {
             "colorbar": {
              "outlinewidth": 0,
              "ticks": ""
             }
            },
            "type": "scattergl"
           }
          ],
          "scattermapbox": [
           {
            "marker": {
             "colorbar": {
              "outlinewidth": 0,
              "ticks": ""
             }
            },
            "type": "scattermapbox"
           }
          ],
          "scatterpolar": [
           {
            "marker": {
             "colorbar": {
              "outlinewidth": 0,
              "ticks": ""
             }
            },
            "type": "scatterpolar"
           }
          ],
          "scatterpolargl": [
           {
            "marker": {
             "colorbar": {
              "outlinewidth": 0,
              "ticks": ""
             }
            },
            "type": "scatterpolargl"
           }
          ],
          "scatterternary": [
           {
            "marker": {
             "colorbar": {
              "outlinewidth": 0,
              "ticks": ""
             }
            },
            "type": "scatterternary"
           }
          ],
          "surface": [
           {
            "colorbar": {
             "outlinewidth": 0,
             "ticks": ""
            },
            "colorscale": [
             [
              0,
              "#0d0887"
             ],
             [
              0.1111111111111111,
              "#46039f"
             ],
             [
              0.2222222222222222,
              "#7201a8"
             ],
             [
              0.3333333333333333,
              "#9c179e"
             ],
             [
              0.4444444444444444,
              "#bd3786"
             ],
             [
              0.5555555555555556,
              "#d8576b"
             ],
             [
              0.6666666666666666,
              "#ed7953"
             ],
             [
              0.7777777777777778,
              "#fb9f3a"
             ],
             [
              0.8888888888888888,
              "#fdca26"
             ],
             [
              1,
              "#f0f921"
             ]
            ],
            "type": "surface"
           }
          ],
          "table": [
           {
            "cells": {
             "fill": {
              "color": "#EBF0F8"
             },
             "line": {
              "color": "white"
             }
            },
            "header": {
             "fill": {
              "color": "#C8D4E3"
             },
             "line": {
              "color": "white"
             }
            },
            "type": "table"
           }
          ]
         },
         "layout": {
          "annotationdefaults": {
           "arrowcolor": "#2a3f5f",
           "arrowhead": 0,
           "arrowwidth": 1
          },
          "autotypenumbers": "strict",
          "coloraxis": {
           "colorbar": {
            "outlinewidth": 0,
            "ticks": ""
           }
          },
          "colorscale": {
           "diverging": [
            [
             0,
             "#8e0152"
            ],
            [
             0.1,
             "#c51b7d"
            ],
            [
             0.2,
             "#de77ae"
            ],
            [
             0.3,
             "#f1b6da"
            ],
            [
             0.4,
             "#fde0ef"
            ],
            [
             0.5,
             "#f7f7f7"
            ],
            [
             0.6,
             "#e6f5d0"
            ],
            [
             0.7,
             "#b8e186"
            ],
            [
             0.8,
             "#7fbc41"
            ],
            [
             0.9,
             "#4d9221"
            ],
            [
             1,
             "#276419"
            ]
           ],
           "sequential": [
            [
             0,
             "#0d0887"
            ],
            [
             0.1111111111111111,
             "#46039f"
            ],
            [
             0.2222222222222222,
             "#7201a8"
            ],
            [
             0.3333333333333333,
             "#9c179e"
            ],
            [
             0.4444444444444444,
             "#bd3786"
            ],
            [
             0.5555555555555556,
             "#d8576b"
            ],
            [
             0.6666666666666666,
             "#ed7953"
            ],
            [
             0.7777777777777778,
             "#fb9f3a"
            ],
            [
             0.8888888888888888,
             "#fdca26"
            ],
            [
             1,
             "#f0f921"
            ]
           ],
           "sequentialminus": [
            [
             0,
             "#0d0887"
            ],
            [
             0.1111111111111111,
             "#46039f"
            ],
            [
             0.2222222222222222,
             "#7201a8"
            ],
            [
             0.3333333333333333,
             "#9c179e"
            ],
            [
             0.4444444444444444,
             "#bd3786"
            ],
            [
             0.5555555555555556,
             "#d8576b"
            ],
            [
             0.6666666666666666,
             "#ed7953"
            ],
            [
             0.7777777777777778,
             "#fb9f3a"
            ],
            [
             0.8888888888888888,
             "#fdca26"
            ],
            [
             1,
             "#f0f921"
            ]
           ]
          },
          "colorway": [
           "#636efa",
           "#EF553B",
           "#00cc96",
           "#ab63fa",
           "#FFA15A",
           "#19d3f3",
           "#FF6692",
           "#B6E880",
           "#FF97FF",
           "#FECB52"
          ],
          "font": {
           "color": "#2a3f5f"
          },
          "geo": {
           "bgcolor": "white",
           "lakecolor": "white",
           "landcolor": "#E5ECF6",
           "showlakes": true,
           "showland": true,
           "subunitcolor": "white"
          },
          "hoverlabel": {
           "align": "left"
          },
          "hovermode": "closest",
          "mapbox": {
           "style": "light"
          },
          "paper_bgcolor": "white",
          "plot_bgcolor": "#E5ECF6",
          "polar": {
           "angularaxis": {
            "gridcolor": "white",
            "linecolor": "white",
            "ticks": ""
           },
           "bgcolor": "#E5ECF6",
           "radialaxis": {
            "gridcolor": "white",
            "linecolor": "white",
            "ticks": ""
           }
          },
          "scene": {
           "xaxis": {
            "backgroundcolor": "#E5ECF6",
            "gridcolor": "white",
            "gridwidth": 2,
            "linecolor": "white",
            "showbackground": true,
            "ticks": "",
            "zerolinecolor": "white"
           },
           "yaxis": {
            "backgroundcolor": "#E5ECF6",
            "gridcolor": "white",
            "gridwidth": 2,
            "linecolor": "white",
            "showbackground": true,
            "ticks": "",
            "zerolinecolor": "white"
           },
           "zaxis": {
            "backgroundcolor": "#E5ECF6",
            "gridcolor": "white",
            "gridwidth": 2,
            "linecolor": "white",
            "showbackground": true,
            "ticks": "",
            "zerolinecolor": "white"
           }
          },
          "shapedefaults": {
           "line": {
            "color": "#2a3f5f"
           }
          },
          "ternary": {
           "aaxis": {
            "gridcolor": "white",
            "linecolor": "white",
            "ticks": ""
           },
           "baxis": {
            "gridcolor": "white",
            "linecolor": "white",
            "ticks": ""
           },
           "bgcolor": "#E5ECF6",
           "caxis": {
            "gridcolor": "white",
            "linecolor": "white",
            "ticks": ""
           }
          },
          "title": {
           "x": 0.05
          },
          "xaxis": {
           "automargin": true,
           "gridcolor": "white",
           "linecolor": "white",
           "ticks": "",
           "title": {
            "standoff": 15
           },
           "zerolinecolor": "white",
           "zerolinewidth": 2
          },
          "yaxis": {
           "automargin": true,
           "gridcolor": "white",
           "linecolor": "white",
           "ticks": "",
           "title": {
            "standoff": 15
           },
           "zerolinecolor": "white",
           "zerolinewidth": 2
          }
         }
        },
        "title": {
         "text": "Total Character Counts of <i>Textus Receptus</i> by Author"
        },
        "xaxis": {
         "anchor": "y",
         "domain": [
          0,
          1
         ],
         "title": {
          "text": "Character Count"
         }
        },
        "yaxis": {
         "anchor": "x",
         "categoryarray": [
          "Jude",
          "James",
          "Peter",
          "Unknown",
          "Mark",
          "Matthew",
          "John",
          "Paul",
          "Luke"
         ],
         "categoryorder": "array",
         "domain": [
          0,
          1
         ],
         "title": {
          "text": "Author"
         }
        }
       }
      }
     },
     "metadata": {},
     "output_type": "display_data"
    }
   ],
   "source": [
    "import plotly.express as px\n",
    "\n",
    "# Define the custom color mapping for genres\n",
    "color_map = {\n",
    "    'History': '#a02013',  # dark red\n",
    "    'Letters': '#42664a',  # dark green\n",
    "    'Prophecy': '#044e7f'  # dark blue\n",
    "}\n",
    "\n",
    "# 1) Group by author to find total char_count per author\n",
    "author_char_sums = book_sums.groupby('author')['char_count'].sum()\n",
    "\n",
    "# 2) Sort authors by their total char_count (descending so largest is at the top)\n",
    "author_order = author_char_sums.sort_values(ascending=True).index.tolist()\n",
    "\n",
    "# Sort the DataFrame by char_count if you like,\n",
    "# but the final order of authors will be determined by `categoryarray`.\n",
    "book_sums_genre_sorted = book_sums.sort_values(by='char_count', ascending=False)\n",
    "\n",
    "# Create the bar chart\n",
    "fig = px.bar(\n",
    "    book_sums_genre_sorted,\n",
    "    x='char_count',\n",
    "    y='author',\n",
    "    orientation='h',\n",
    "    color='genre',\n",
    "    color_discrete_map=color_map,\n",
    "    title='Total Character Counts of <i>Textus Receptus</i> by Author',\n",
    "    labels={\n",
    "        'book_name': 'Book',\n",
    "        'author': 'Author',\n",
    "        'genre': 'Genre',\n",
    "        'word_count': 'Word Count',\n",
    "        'char_count': 'Character Count'\n",
    "    },\n",
    "    # Columns for default tooltips\n",
    "    hover_data=['book_name', 'author', 'genre', 'word_count', 'char_count'],\n",
    "    # Columns to reference with customdata in the hovertemplate\n",
    "    custom_data=['book_name', 'author', 'genre', 'word_count', 'char_count']\n",
    ")\n",
    "\n",
    "# 3) Apply the custom ordering to the y-axis\n",
    "fig.update_layout(\n",
    "    yaxis=dict(\n",
    "        categoryorder='array',\n",
    "        categoryarray=author_order  # Our sorted list of authors\n",
    "    )\n",
    ")\n",
    "\n",
    "# 4) Define a custom hovertemplate that uses the order in `custom_data`\n",
    "fig.update_traces(\n",
    "    hovertemplate=\n",
    "    \"<b>%{customdata[2]}</b><br>\" +         # Author\n",
    "    \"Book: %{customdata[0]}<br>\" +         # Book Name\n",
    "    \"Author: %{customdata[1]}<br>\" +        # Genre\n",
    "    \"Word Count: %{customdata[3]:,}<br>\" +   # Word Count\n",
    "    \"Character Count: %{customdata[4]:,}<extra></extra>\"  # Char Count\n",
    ")\n",
    "\n",
    "fig.show()\n"
   ]
  },
  {
   "cell_type": "code",
   "execution_count": null,
   "id": "27869b21",
   "metadata": {},
   "outputs": [],
   "source": []
  }
 ],
 "metadata": {
  "kernelspec": {
   "display_name": "llms",
   "language": "python",
   "name": "python3"
  },
  "language_info": {
   "codemirror_mode": {
    "name": "ipython",
    "version": 3
   },
   "file_extension": ".py",
   "mimetype": "text/x-python",
   "name": "python",
   "nbconvert_exporter": "python",
   "pygments_lexer": "ipython3",
   "version": "3.11.10"
  }
 },
 "nbformat": 4,
 "nbformat_minor": 5
}
